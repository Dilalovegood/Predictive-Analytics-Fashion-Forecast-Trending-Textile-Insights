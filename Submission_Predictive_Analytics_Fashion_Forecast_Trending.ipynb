{
  "nbformat": 4,
  "nbformat_minor": 0,
  "metadata": {
    "colab": {
      "provenance": [],
      "gpuType": "T4"
    },
    "kernelspec": {
      "name": "python3",
      "display_name": "Python 3"
    },
    "language_info": {
      "name": "python"
    },
    "accelerator": "GPU"
  },
  "cells": [
    {
      "cell_type": "markdown",
      "source": [
        "# **Dataset: 👗 Fashion Forecast Trending Textile Insights 🌟**\n",
        "\n",
        "- Nama          : Dila Aura Futri\n",
        "- Email         : dilalovegood@gmail.com\n",
        "- Id Dicoding   : a459xbm129"
      ],
      "metadata": {
        "id": "Y6KzeknsvkqA"
      }
    },
    {
      "cell_type": "markdown",
      "source": [
        "# 1. Business Understanding\n",
        "\n",
        "**Tujuan**\n",
        "\n",
        "Analisis dataset Fashion Forecast: Trending Textile Insights bertujuan untuk memperoleh wawasan mengenai tren fashion terkini berdasarkan fitur seperti Brand, Category, Color, Size, dan Material. Wawasan ini dapat membantu pelaku bisnis fashion dalam:\n",
        "- Mengidentifikasi atribut produk yang paling menarik di pasar.\n",
        "- Mengoptimalkan strategi produk dan penetapan harga.\n",
        "- Memprediksi potensi penjualan untuk meningkatkan revenue.\n",
        "\n",
        "Dengan memahami tren yang sedang berkembang, perusahaan dapat mengambil keputusan berbasis data sebelum memasuki atau mengembangkan bisnis di industri fashion.\n",
        "\n",
        "\n",
        "\n",
        "**Deskripsi Variabel**\n",
        "- Brand : Merek dari produk pakaian, dipilih dari sejumlah merek populer seperti Nike, Adidas, Puma, Under Armour, Reebok, dan New Balance.\n",
        "\n",
        "- Category : Kategori dari produk pakaian, seperti Kaos (T-shirt), Celana Jeans, Gaun (Dress), Jaket, Sweater, atau Sepatu (Shoes).\n",
        "- Color : Warna dari produk pakaian, dipilih dari berbagai pilihan warna seperti Merah, Biru, Hijau, Kuning, Hitam, dan Putih.\n",
        "- Size : Ukuran dari produk pakaian, dinyatakan dalam ukuran standar seperti XS, S, M, L, XL, atau XXL.\n",
        "- Material : Komposisi bahan dari produk pakaian, termasuk pilihan seperti Katun (Cotton), Poliester (Polyester), Nilon (Nylon), Wol (Wool), Sutra (Silk), dan Denim.\n",
        "- Price : Harga dari produk pakaian, diukur dalam mata uang lokal.\n",
        "\n",
        "\n",
        "\n",
        "**Pertanyaan bisnis**\n",
        "1. Bagaimanan distribusi harga terhadap kategori Brand, Category, Color, Size, dan Material\n",
        "2. Bagaimanan frekueansi dari kategori Brand, Category, Color, Size, dan Material\n",
        "3. Apakah terdapat hubungan tertentu antara fitur-fitur tersebut dengan harga (Price)?\n",
        "4. Atribut apa saja yang paling berpengaruh terhadap harga produk fashion?"
      ],
      "metadata": {
        "id": "IJDWIKnvwkRs"
      }
    },
    {
      "cell_type": "markdown",
      "source": [
        "# 2. Import Library yang Dibutuhkan"
      ],
      "metadata": {
        "id": "MHc7isXgXMud"
      }
    },
    {
      "cell_type": "code",
      "source": [
        "!pip install scikit-optimize"
      ],
      "metadata": {
        "colab": {
          "base_uri": "https://localhost:8080/"
        },
        "id": "RF8Uj10HIcgB",
        "outputId": "b9c0b5fd-b8ab-4ed5-8e31-ca706bbac481"
      },
      "execution_count": 1,
      "outputs": [
        {
          "output_type": "stream",
          "name": "stdout",
          "text": [
            "Collecting scikit-optimize\n",
            "  Downloading scikit_optimize-0.10.2-py2.py3-none-any.whl.metadata (9.7 kB)\n",
            "Requirement already satisfied: joblib>=0.11 in /usr/local/lib/python3.11/dist-packages (from scikit-optimize) (1.5.0)\n",
            "Collecting pyaml>=16.9 (from scikit-optimize)\n",
            "  Downloading pyaml-25.5.0-py3-none-any.whl.metadata (12 kB)\n",
            "Requirement already satisfied: numpy>=1.20.3 in /usr/local/lib/python3.11/dist-packages (from scikit-optimize) (2.0.2)\n",
            "Requirement already satisfied: scipy>=1.1.0 in /usr/local/lib/python3.11/dist-packages (from scikit-optimize) (1.15.3)\n",
            "Requirement already satisfied: scikit-learn>=1.0.0 in /usr/local/lib/python3.11/dist-packages (from scikit-optimize) (1.6.1)\n",
            "Requirement already satisfied: packaging>=21.3 in /usr/local/lib/python3.11/dist-packages (from scikit-optimize) (24.2)\n",
            "Requirement already satisfied: PyYAML in /usr/local/lib/python3.11/dist-packages (from pyaml>=16.9->scikit-optimize) (6.0.2)\n",
            "Requirement already satisfied: threadpoolctl>=3.1.0 in /usr/local/lib/python3.11/dist-packages (from scikit-learn>=1.0.0->scikit-optimize) (3.6.0)\n",
            "Downloading scikit_optimize-0.10.2-py2.py3-none-any.whl (107 kB)\n",
            "\u001b[2K   \u001b[90m━━━━━━━━━━━━━━━━━━━━━━━━━━━━━━━━━━━━━━━━\u001b[0m \u001b[32m107.8/107.8 kB\u001b[0m \u001b[31m5.9 MB/s\u001b[0m eta \u001b[36m0:00:00\u001b[0m\n",
            "\u001b[?25hDownloading pyaml-25.5.0-py3-none-any.whl (26 kB)\n",
            "Installing collected packages: pyaml, scikit-optimize\n",
            "Successfully installed pyaml-25.5.0 scikit-optimize-0.10.2\n"
          ]
        }
      ]
    },
    {
      "cell_type": "code",
      "execution_count": 2,
      "metadata": {
        "id": "dBsjwCOSWcw_"
      },
      "outputs": [],
      "source": [
        "import numpy as np\n",
        "import matplotlib.pyplot as plt\n",
        "import pandas as pd\n",
        "%matplotlib inline\n",
        "import seaborn as sns\n",
        "from google.colab import files\n",
        "from google.colab import userdata\n",
        "import os\n",
        "import shutil\n",
        "import zipfile"
      ]
    },
    {
      "cell_type": "markdown",
      "source": [
        "# 3. Data Loading\n",
        "\n",
        "dataset di import dari gdrive\n"
      ],
      "metadata": {
        "id": "BWFQJqHcW4WB"
      }
    },
    {
      "cell_type": "code",
      "source": [
        "from google.colab import drive\n",
        "drive.mount('/content/drive')"
      ],
      "metadata": {
        "id": "FbCZSm7jly_J",
        "colab": {
          "base_uri": "https://localhost:8080/"
        },
        "outputId": "d157c0f7-601d-41ef-8b8d-f32601914756"
      },
      "execution_count": 3,
      "outputs": [
        {
          "output_type": "stream",
          "name": "stdout",
          "text": [
            "Mounted at /content/drive\n"
          ]
        }
      ]
    },
    {
      "cell_type": "code",
      "source": [
        "import pandas as pd\n",
        "\n",
        "# Ganti dengan path sesuai lokasi kamu menyimpan file\n",
        "file_path = \"/content/drive/MyDrive/clothes_price_prediction_data.csv\"\n",
        "\n",
        "fashion = pd.read_csv(file_path)\n",
        "fashion\n"
      ],
      "metadata": {
        "id": "rvypEuy0opN_",
        "colab": {
          "base_uri": "https://localhost:8080/",
          "height": 424
        },
        "outputId": "c2057393-0ad5-4e04-9e95-ce523eba4fe8"
      },
      "execution_count": 4,
      "outputs": [
        {
          "output_type": "execute_result",
          "data": {
            "text/plain": [
              "            Brand Category   Color Size   Material  Price\n",
              "0     New Balance    Dress   White   XS      Nylon    182\n",
              "1     New Balance    Jeans   Black   XS       Silk     57\n",
              "2    Under Armour    Dress     Red    M       Wool    127\n",
              "3            Nike    Shoes   Green    M     Cotton     77\n",
              "4          Adidas  Sweater   White    M      Nylon    113\n",
              "..            ...      ...     ...  ...        ...    ...\n",
              "995          Puma    Jeans   Black    L  Polyester    176\n",
              "996          Puma   Jacket     Red  XXL       Silk    110\n",
              "997        Reebok  Sweater    Blue   XS      Denim    127\n",
              "998  Under Armour  Sweater   Black  XXL      Denim     69\n",
              "999   New Balance   Jacket  Yellow   XS       Wool    174\n",
              "\n",
              "[1000 rows x 6 columns]"
            ],
            "text/html": [
              "\n",
              "  <div id=\"df-259cb060-bd32-43d2-9742-8742aeea4c09\" class=\"colab-df-container\">\n",
              "    <div>\n",
              "<style scoped>\n",
              "    .dataframe tbody tr th:only-of-type {\n",
              "        vertical-align: middle;\n",
              "    }\n",
              "\n",
              "    .dataframe tbody tr th {\n",
              "        vertical-align: top;\n",
              "    }\n",
              "\n",
              "    .dataframe thead th {\n",
              "        text-align: right;\n",
              "    }\n",
              "</style>\n",
              "<table border=\"1\" class=\"dataframe\">\n",
              "  <thead>\n",
              "    <tr style=\"text-align: right;\">\n",
              "      <th></th>\n",
              "      <th>Brand</th>\n",
              "      <th>Category</th>\n",
              "      <th>Color</th>\n",
              "      <th>Size</th>\n",
              "      <th>Material</th>\n",
              "      <th>Price</th>\n",
              "    </tr>\n",
              "  </thead>\n",
              "  <tbody>\n",
              "    <tr>\n",
              "      <th>0</th>\n",
              "      <td>New Balance</td>\n",
              "      <td>Dress</td>\n",
              "      <td>White</td>\n",
              "      <td>XS</td>\n",
              "      <td>Nylon</td>\n",
              "      <td>182</td>\n",
              "    </tr>\n",
              "    <tr>\n",
              "      <th>1</th>\n",
              "      <td>New Balance</td>\n",
              "      <td>Jeans</td>\n",
              "      <td>Black</td>\n",
              "      <td>XS</td>\n",
              "      <td>Silk</td>\n",
              "      <td>57</td>\n",
              "    </tr>\n",
              "    <tr>\n",
              "      <th>2</th>\n",
              "      <td>Under Armour</td>\n",
              "      <td>Dress</td>\n",
              "      <td>Red</td>\n",
              "      <td>M</td>\n",
              "      <td>Wool</td>\n",
              "      <td>127</td>\n",
              "    </tr>\n",
              "    <tr>\n",
              "      <th>3</th>\n",
              "      <td>Nike</td>\n",
              "      <td>Shoes</td>\n",
              "      <td>Green</td>\n",
              "      <td>M</td>\n",
              "      <td>Cotton</td>\n",
              "      <td>77</td>\n",
              "    </tr>\n",
              "    <tr>\n",
              "      <th>4</th>\n",
              "      <td>Adidas</td>\n",
              "      <td>Sweater</td>\n",
              "      <td>White</td>\n",
              "      <td>M</td>\n",
              "      <td>Nylon</td>\n",
              "      <td>113</td>\n",
              "    </tr>\n",
              "    <tr>\n",
              "      <th>...</th>\n",
              "      <td>...</td>\n",
              "      <td>...</td>\n",
              "      <td>...</td>\n",
              "      <td>...</td>\n",
              "      <td>...</td>\n",
              "      <td>...</td>\n",
              "    </tr>\n",
              "    <tr>\n",
              "      <th>995</th>\n",
              "      <td>Puma</td>\n",
              "      <td>Jeans</td>\n",
              "      <td>Black</td>\n",
              "      <td>L</td>\n",
              "      <td>Polyester</td>\n",
              "      <td>176</td>\n",
              "    </tr>\n",
              "    <tr>\n",
              "      <th>996</th>\n",
              "      <td>Puma</td>\n",
              "      <td>Jacket</td>\n",
              "      <td>Red</td>\n",
              "      <td>XXL</td>\n",
              "      <td>Silk</td>\n",
              "      <td>110</td>\n",
              "    </tr>\n",
              "    <tr>\n",
              "      <th>997</th>\n",
              "      <td>Reebok</td>\n",
              "      <td>Sweater</td>\n",
              "      <td>Blue</td>\n",
              "      <td>XS</td>\n",
              "      <td>Denim</td>\n",
              "      <td>127</td>\n",
              "    </tr>\n",
              "    <tr>\n",
              "      <th>998</th>\n",
              "      <td>Under Armour</td>\n",
              "      <td>Sweater</td>\n",
              "      <td>Black</td>\n",
              "      <td>XXL</td>\n",
              "      <td>Denim</td>\n",
              "      <td>69</td>\n",
              "    </tr>\n",
              "    <tr>\n",
              "      <th>999</th>\n",
              "      <td>New Balance</td>\n",
              "      <td>Jacket</td>\n",
              "      <td>Yellow</td>\n",
              "      <td>XS</td>\n",
              "      <td>Wool</td>\n",
              "      <td>174</td>\n",
              "    </tr>\n",
              "  </tbody>\n",
              "</table>\n",
              "<p>1000 rows × 6 columns</p>\n",
              "</div>\n",
              "    <div class=\"colab-df-buttons\">\n",
              "\n",
              "  <div class=\"colab-df-container\">\n",
              "    <button class=\"colab-df-convert\" onclick=\"convertToInteractive('df-259cb060-bd32-43d2-9742-8742aeea4c09')\"\n",
              "            title=\"Convert this dataframe to an interactive table.\"\n",
              "            style=\"display:none;\">\n",
              "\n",
              "  <svg xmlns=\"http://www.w3.org/2000/svg\" height=\"24px\" viewBox=\"0 -960 960 960\">\n",
              "    <path d=\"M120-120v-720h720v720H120Zm60-500h600v-160H180v160Zm220 220h160v-160H400v160Zm0 220h160v-160H400v160ZM180-400h160v-160H180v160Zm440 0h160v-160H620v160ZM180-180h160v-160H180v160Zm440 0h160v-160H620v160Z\"/>\n",
              "  </svg>\n",
              "    </button>\n",
              "\n",
              "  <style>\n",
              "    .colab-df-container {\n",
              "      display:flex;\n",
              "      gap: 12px;\n",
              "    }\n",
              "\n",
              "    .colab-df-convert {\n",
              "      background-color: #E8F0FE;\n",
              "      border: none;\n",
              "      border-radius: 50%;\n",
              "      cursor: pointer;\n",
              "      display: none;\n",
              "      fill: #1967D2;\n",
              "      height: 32px;\n",
              "      padding: 0 0 0 0;\n",
              "      width: 32px;\n",
              "    }\n",
              "\n",
              "    .colab-df-convert:hover {\n",
              "      background-color: #E2EBFA;\n",
              "      box-shadow: 0px 1px 2px rgba(60, 64, 67, 0.3), 0px 1px 3px 1px rgba(60, 64, 67, 0.15);\n",
              "      fill: #174EA6;\n",
              "    }\n",
              "\n",
              "    .colab-df-buttons div {\n",
              "      margin-bottom: 4px;\n",
              "    }\n",
              "\n",
              "    [theme=dark] .colab-df-convert {\n",
              "      background-color: #3B4455;\n",
              "      fill: #D2E3FC;\n",
              "    }\n",
              "\n",
              "    [theme=dark] .colab-df-convert:hover {\n",
              "      background-color: #434B5C;\n",
              "      box-shadow: 0px 1px 3px 1px rgba(0, 0, 0, 0.15);\n",
              "      filter: drop-shadow(0px 1px 2px rgba(0, 0, 0, 0.3));\n",
              "      fill: #FFFFFF;\n",
              "    }\n",
              "  </style>\n",
              "\n",
              "    <script>\n",
              "      const buttonEl =\n",
              "        document.querySelector('#df-259cb060-bd32-43d2-9742-8742aeea4c09 button.colab-df-convert');\n",
              "      buttonEl.style.display =\n",
              "        google.colab.kernel.accessAllowed ? 'block' : 'none';\n",
              "\n",
              "      async function convertToInteractive(key) {\n",
              "        const element = document.querySelector('#df-259cb060-bd32-43d2-9742-8742aeea4c09');\n",
              "        const dataTable =\n",
              "          await google.colab.kernel.invokeFunction('convertToInteractive',\n",
              "                                                    [key], {});\n",
              "        if (!dataTable) return;\n",
              "\n",
              "        const docLinkHtml = 'Like what you see? Visit the ' +\n",
              "          '<a target=\"_blank\" href=https://colab.research.google.com/notebooks/data_table.ipynb>data table notebook</a>'\n",
              "          + ' to learn more about interactive tables.';\n",
              "        element.innerHTML = '';\n",
              "        dataTable['output_type'] = 'display_data';\n",
              "        await google.colab.output.renderOutput(dataTable, element);\n",
              "        const docLink = document.createElement('div');\n",
              "        docLink.innerHTML = docLinkHtml;\n",
              "        element.appendChild(docLink);\n",
              "      }\n",
              "    </script>\n",
              "  </div>\n",
              "\n",
              "\n",
              "    <div id=\"df-0bddf099-84ae-42f4-b4aa-cddc47b81bea\">\n",
              "      <button class=\"colab-df-quickchart\" onclick=\"quickchart('df-0bddf099-84ae-42f4-b4aa-cddc47b81bea')\"\n",
              "                title=\"Suggest charts\"\n",
              "                style=\"display:none;\">\n",
              "\n",
              "<svg xmlns=\"http://www.w3.org/2000/svg\" height=\"24px\"viewBox=\"0 0 24 24\"\n",
              "     width=\"24px\">\n",
              "    <g>\n",
              "        <path d=\"M19 3H5c-1.1 0-2 .9-2 2v14c0 1.1.9 2 2 2h14c1.1 0 2-.9 2-2V5c0-1.1-.9-2-2-2zM9 17H7v-7h2v7zm4 0h-2V7h2v10zm4 0h-2v-4h2v4z\"/>\n",
              "    </g>\n",
              "</svg>\n",
              "      </button>\n",
              "\n",
              "<style>\n",
              "  .colab-df-quickchart {\n",
              "      --bg-color: #E8F0FE;\n",
              "      --fill-color: #1967D2;\n",
              "      --hover-bg-color: #E2EBFA;\n",
              "      --hover-fill-color: #174EA6;\n",
              "      --disabled-fill-color: #AAA;\n",
              "      --disabled-bg-color: #DDD;\n",
              "  }\n",
              "\n",
              "  [theme=dark] .colab-df-quickchart {\n",
              "      --bg-color: #3B4455;\n",
              "      --fill-color: #D2E3FC;\n",
              "      --hover-bg-color: #434B5C;\n",
              "      --hover-fill-color: #FFFFFF;\n",
              "      --disabled-bg-color: #3B4455;\n",
              "      --disabled-fill-color: #666;\n",
              "  }\n",
              "\n",
              "  .colab-df-quickchart {\n",
              "    background-color: var(--bg-color);\n",
              "    border: none;\n",
              "    border-radius: 50%;\n",
              "    cursor: pointer;\n",
              "    display: none;\n",
              "    fill: var(--fill-color);\n",
              "    height: 32px;\n",
              "    padding: 0;\n",
              "    width: 32px;\n",
              "  }\n",
              "\n",
              "  .colab-df-quickchart:hover {\n",
              "    background-color: var(--hover-bg-color);\n",
              "    box-shadow: 0 1px 2px rgba(60, 64, 67, 0.3), 0 1px 3px 1px rgba(60, 64, 67, 0.15);\n",
              "    fill: var(--button-hover-fill-color);\n",
              "  }\n",
              "\n",
              "  .colab-df-quickchart-complete:disabled,\n",
              "  .colab-df-quickchart-complete:disabled:hover {\n",
              "    background-color: var(--disabled-bg-color);\n",
              "    fill: var(--disabled-fill-color);\n",
              "    box-shadow: none;\n",
              "  }\n",
              "\n",
              "  .colab-df-spinner {\n",
              "    border: 2px solid var(--fill-color);\n",
              "    border-color: transparent;\n",
              "    border-bottom-color: var(--fill-color);\n",
              "    animation:\n",
              "      spin 1s steps(1) infinite;\n",
              "  }\n",
              "\n",
              "  @keyframes spin {\n",
              "    0% {\n",
              "      border-color: transparent;\n",
              "      border-bottom-color: var(--fill-color);\n",
              "      border-left-color: var(--fill-color);\n",
              "    }\n",
              "    20% {\n",
              "      border-color: transparent;\n",
              "      border-left-color: var(--fill-color);\n",
              "      border-top-color: var(--fill-color);\n",
              "    }\n",
              "    30% {\n",
              "      border-color: transparent;\n",
              "      border-left-color: var(--fill-color);\n",
              "      border-top-color: var(--fill-color);\n",
              "      border-right-color: var(--fill-color);\n",
              "    }\n",
              "    40% {\n",
              "      border-color: transparent;\n",
              "      border-right-color: var(--fill-color);\n",
              "      border-top-color: var(--fill-color);\n",
              "    }\n",
              "    60% {\n",
              "      border-color: transparent;\n",
              "      border-right-color: var(--fill-color);\n",
              "    }\n",
              "    80% {\n",
              "      border-color: transparent;\n",
              "      border-right-color: var(--fill-color);\n",
              "      border-bottom-color: var(--fill-color);\n",
              "    }\n",
              "    90% {\n",
              "      border-color: transparent;\n",
              "      border-bottom-color: var(--fill-color);\n",
              "    }\n",
              "  }\n",
              "</style>\n",
              "\n",
              "      <script>\n",
              "        async function quickchart(key) {\n",
              "          const quickchartButtonEl =\n",
              "            document.querySelector('#' + key + ' button');\n",
              "          quickchartButtonEl.disabled = true;  // To prevent multiple clicks.\n",
              "          quickchartButtonEl.classList.add('colab-df-spinner');\n",
              "          try {\n",
              "            const charts = await google.colab.kernel.invokeFunction(\n",
              "                'suggestCharts', [key], {});\n",
              "          } catch (error) {\n",
              "            console.error('Error during call to suggestCharts:', error);\n",
              "          }\n",
              "          quickchartButtonEl.classList.remove('colab-df-spinner');\n",
              "          quickchartButtonEl.classList.add('colab-df-quickchart-complete');\n",
              "        }\n",
              "        (() => {\n",
              "          let quickchartButtonEl =\n",
              "            document.querySelector('#df-0bddf099-84ae-42f4-b4aa-cddc47b81bea button');\n",
              "          quickchartButtonEl.style.display =\n",
              "            google.colab.kernel.accessAllowed ? 'block' : 'none';\n",
              "        })();\n",
              "      </script>\n",
              "    </div>\n",
              "\n",
              "  <div id=\"id_bf203c68-3f29-413f-893c-4f3ca41255d4\">\n",
              "    <style>\n",
              "      .colab-df-generate {\n",
              "        background-color: #E8F0FE;\n",
              "        border: none;\n",
              "        border-radius: 50%;\n",
              "        cursor: pointer;\n",
              "        display: none;\n",
              "        fill: #1967D2;\n",
              "        height: 32px;\n",
              "        padding: 0 0 0 0;\n",
              "        width: 32px;\n",
              "      }\n",
              "\n",
              "      .colab-df-generate:hover {\n",
              "        background-color: #E2EBFA;\n",
              "        box-shadow: 0px 1px 2px rgba(60, 64, 67, 0.3), 0px 1px 3px 1px rgba(60, 64, 67, 0.15);\n",
              "        fill: #174EA6;\n",
              "      }\n",
              "\n",
              "      [theme=dark] .colab-df-generate {\n",
              "        background-color: #3B4455;\n",
              "        fill: #D2E3FC;\n",
              "      }\n",
              "\n",
              "      [theme=dark] .colab-df-generate:hover {\n",
              "        background-color: #434B5C;\n",
              "        box-shadow: 0px 1px 3px 1px rgba(0, 0, 0, 0.15);\n",
              "        filter: drop-shadow(0px 1px 2px rgba(0, 0, 0, 0.3));\n",
              "        fill: #FFFFFF;\n",
              "      }\n",
              "    </style>\n",
              "    <button class=\"colab-df-generate\" onclick=\"generateWithVariable('fashion')\"\n",
              "            title=\"Generate code using this dataframe.\"\n",
              "            style=\"display:none;\">\n",
              "\n",
              "  <svg xmlns=\"http://www.w3.org/2000/svg\" height=\"24px\"viewBox=\"0 0 24 24\"\n",
              "       width=\"24px\">\n",
              "    <path d=\"M7,19H8.4L18.45,9,17,7.55,7,17.6ZM5,21V16.75L18.45,3.32a2,2,0,0,1,2.83,0l1.4,1.43a1.91,1.91,0,0,1,.58,1.4,1.91,1.91,0,0,1-.58,1.4L9.25,21ZM18.45,9,17,7.55Zm-12,3A5.31,5.31,0,0,0,4.9,8.1,5.31,5.31,0,0,0,1,6.5,5.31,5.31,0,0,0,4.9,4.9,5.31,5.31,0,0,0,6.5,1,5.31,5.31,0,0,0,8.1,4.9,5.31,5.31,0,0,0,12,6.5,5.46,5.46,0,0,0,6.5,12Z\"/>\n",
              "  </svg>\n",
              "    </button>\n",
              "    <script>\n",
              "      (() => {\n",
              "      const buttonEl =\n",
              "        document.querySelector('#id_bf203c68-3f29-413f-893c-4f3ca41255d4 button.colab-df-generate');\n",
              "      buttonEl.style.display =\n",
              "        google.colab.kernel.accessAllowed ? 'block' : 'none';\n",
              "\n",
              "      buttonEl.onclick = () => {\n",
              "        google.colab.notebook.generateWithVariable('fashion');\n",
              "      }\n",
              "      })();\n",
              "    </script>\n",
              "  </div>\n",
              "\n",
              "    </div>\n",
              "  </div>\n"
            ],
            "application/vnd.google.colaboratory.intrinsic+json": {
              "type": "dataframe",
              "variable_name": "fashion",
              "summary": "{\n  \"name\": \"fashion\",\n  \"rows\": 1000,\n  \"fields\": [\n    {\n      \"column\": \"Brand\",\n      \"properties\": {\n        \"dtype\": \"category\",\n        \"num_unique_values\": 6,\n        \"samples\": [\n          \"New Balance\",\n          \"Under Armour\",\n          \"Puma\"\n        ],\n        \"semantic_type\": \"\",\n        \"description\": \"\"\n      }\n    },\n    {\n      \"column\": \"Category\",\n      \"properties\": {\n        \"dtype\": \"category\",\n        \"num_unique_values\": 6,\n        \"samples\": [\n          \"Dress\",\n          \"Jeans\",\n          \"T-shirt\"\n        ],\n        \"semantic_type\": \"\",\n        \"description\": \"\"\n      }\n    },\n    {\n      \"column\": \"Color\",\n      \"properties\": {\n        \"dtype\": \"category\",\n        \"num_unique_values\": 6,\n        \"samples\": [\n          \"White\",\n          \"Black\",\n          \"Blue\"\n        ],\n        \"semantic_type\": \"\",\n        \"description\": \"\"\n      }\n    },\n    {\n      \"column\": \"Size\",\n      \"properties\": {\n        \"dtype\": \"category\",\n        \"num_unique_values\": 6,\n        \"samples\": [\n          \"XS\",\n          \"M\",\n          \"L\"\n        ],\n        \"semantic_type\": \"\",\n        \"description\": \"\"\n      }\n    },\n    {\n      \"column\": \"Material\",\n      \"properties\": {\n        \"dtype\": \"category\",\n        \"num_unique_values\": 6,\n        \"samples\": [\n          \"Nylon\",\n          \"Silk\",\n          \"Denim\"\n        ],\n        \"semantic_type\": \"\",\n        \"description\": \"\"\n      }\n    },\n    {\n      \"column\": \"Price\",\n      \"properties\": {\n        \"dtype\": \"number\",\n        \"std\": 53,\n        \"min\": 10,\n        \"max\": 199,\n        \"num_unique_values\": 190,\n        \"samples\": [\n          70,\n          189,\n          117\n        ],\n        \"semantic_type\": \"\",\n        \"description\": \"\"\n      }\n    }\n  ]\n}"
            }
          },
          "metadata": {},
          "execution_count": 4
        }
      ]
    },
    {
      "cell_type": "markdown",
      "source": [
        "Output: Ada 1.000 baris (records atau jumlah pengamatan) dalam dataset.\n",
        "Terdapat 6 kolom yaitu: Brand, Category, Color, Size, Material dan Price"
      ],
      "metadata": {
        "id": "SI4ke4vFXc9P"
      }
    },
    {
      "cell_type": "markdown",
      "source": [
        "# 4. Exploratory Data Analysis\n",
        "untuk menganalisis karakteristik, menemukan pola, anomali, dan memeriksa asumsi pada data.\n"
      ],
      "metadata": {
        "id": "aeLT9WIoXi9j"
      }
    },
    {
      "cell_type": "code",
      "source": [
        "#cek infromasi dataset\n",
        "fashion.info()"
      ],
      "metadata": {
        "id": "idT9Yiw0YGYM",
        "colab": {
          "base_uri": "https://localhost:8080/"
        },
        "outputId": "274f6202-a629-46b5-ee2b-9b7ac582d1ca"
      },
      "execution_count": 5,
      "outputs": [
        {
          "output_type": "stream",
          "name": "stdout",
          "text": [
            "<class 'pandas.core.frame.DataFrame'>\n",
            "RangeIndex: 1000 entries, 0 to 999\n",
            "Data columns (total 6 columns):\n",
            " #   Column    Non-Null Count  Dtype \n",
            "---  ------    --------------  ----- \n",
            " 0   Brand     1000 non-null   object\n",
            " 1   Category  1000 non-null   object\n",
            " 2   Color     1000 non-null   object\n",
            " 3   Size      1000 non-null   object\n",
            " 4   Material  1000 non-null   object\n",
            " 5   Price     1000 non-null   int64 \n",
            "dtypes: int64(1), object(5)\n",
            "memory usage: 47.0+ KB\n"
          ]
        }
      ]
    },
    {
      "cell_type": "markdown",
      "source": [
        "Output:\n",
        "- Terdapat 5 kolom dengan tipe object, yaitu: Brand, Category, Color, Size, Material (fitur non-numerik).\n",
        "- Terdapat 1 kolom numerik dengan tipe data float64 yaitu: Price.                "
      ],
      "metadata": {
        "id": "Ey75PWLYZxIT"
      }
    },
    {
      "cell_type": "code",
      "source": [
        "#cek deskripsi statistik\n",
        "fashion.describe(include='all')"
      ],
      "metadata": {
        "id": "ZZM6pIGdXYCe",
        "colab": {
          "base_uri": "https://localhost:8080/",
          "height": 394
        },
        "outputId": "786b745b-915c-4ef2-cd1d-18f87928be91"
      },
      "execution_count": 6,
      "outputs": [
        {
          "output_type": "execute_result",
          "data": {
            "text/plain": [
              "               Brand Category   Color  Size   Material        Price\n",
              "count           1000     1000    1000  1000       1000  1000.000000\n",
              "unique             6        6       6     6          6          NaN\n",
              "top     Under Armour   Jacket  Yellow    XS  Polyester          NaN\n",
              "freq             179      191     173   196        175          NaN\n",
              "mean             NaN      NaN     NaN   NaN        NaN   106.289000\n",
              "std              NaN      NaN     NaN   NaN        NaN    53.695444\n",
              "min              NaN      NaN     NaN   NaN        NaN    10.000000\n",
              "25%              NaN      NaN     NaN   NaN        NaN    59.750000\n",
              "50%              NaN      NaN     NaN   NaN        NaN   108.000000\n",
              "75%              NaN      NaN     NaN   NaN        NaN   150.000000\n",
              "max              NaN      NaN     NaN   NaN        NaN   199.000000"
            ],
            "text/html": [
              "\n",
              "  <div id=\"df-096107f6-5496-452b-97a6-961f4e42257f\" class=\"colab-df-container\">\n",
              "    <div>\n",
              "<style scoped>\n",
              "    .dataframe tbody tr th:only-of-type {\n",
              "        vertical-align: middle;\n",
              "    }\n",
              "\n",
              "    .dataframe tbody tr th {\n",
              "        vertical-align: top;\n",
              "    }\n",
              "\n",
              "    .dataframe thead th {\n",
              "        text-align: right;\n",
              "    }\n",
              "</style>\n",
              "<table border=\"1\" class=\"dataframe\">\n",
              "  <thead>\n",
              "    <tr style=\"text-align: right;\">\n",
              "      <th></th>\n",
              "      <th>Brand</th>\n",
              "      <th>Category</th>\n",
              "      <th>Color</th>\n",
              "      <th>Size</th>\n",
              "      <th>Material</th>\n",
              "      <th>Price</th>\n",
              "    </tr>\n",
              "  </thead>\n",
              "  <tbody>\n",
              "    <tr>\n",
              "      <th>count</th>\n",
              "      <td>1000</td>\n",
              "      <td>1000</td>\n",
              "      <td>1000</td>\n",
              "      <td>1000</td>\n",
              "      <td>1000</td>\n",
              "      <td>1000.000000</td>\n",
              "    </tr>\n",
              "    <tr>\n",
              "      <th>unique</th>\n",
              "      <td>6</td>\n",
              "      <td>6</td>\n",
              "      <td>6</td>\n",
              "      <td>6</td>\n",
              "      <td>6</td>\n",
              "      <td>NaN</td>\n",
              "    </tr>\n",
              "    <tr>\n",
              "      <th>top</th>\n",
              "      <td>Under Armour</td>\n",
              "      <td>Jacket</td>\n",
              "      <td>Yellow</td>\n",
              "      <td>XS</td>\n",
              "      <td>Polyester</td>\n",
              "      <td>NaN</td>\n",
              "    </tr>\n",
              "    <tr>\n",
              "      <th>freq</th>\n",
              "      <td>179</td>\n",
              "      <td>191</td>\n",
              "      <td>173</td>\n",
              "      <td>196</td>\n",
              "      <td>175</td>\n",
              "      <td>NaN</td>\n",
              "    </tr>\n",
              "    <tr>\n",
              "      <th>mean</th>\n",
              "      <td>NaN</td>\n",
              "      <td>NaN</td>\n",
              "      <td>NaN</td>\n",
              "      <td>NaN</td>\n",
              "      <td>NaN</td>\n",
              "      <td>106.289000</td>\n",
              "    </tr>\n",
              "    <tr>\n",
              "      <th>std</th>\n",
              "      <td>NaN</td>\n",
              "      <td>NaN</td>\n",
              "      <td>NaN</td>\n",
              "      <td>NaN</td>\n",
              "      <td>NaN</td>\n",
              "      <td>53.695444</td>\n",
              "    </tr>\n",
              "    <tr>\n",
              "      <th>min</th>\n",
              "      <td>NaN</td>\n",
              "      <td>NaN</td>\n",
              "      <td>NaN</td>\n",
              "      <td>NaN</td>\n",
              "      <td>NaN</td>\n",
              "      <td>10.000000</td>\n",
              "    </tr>\n",
              "    <tr>\n",
              "      <th>25%</th>\n",
              "      <td>NaN</td>\n",
              "      <td>NaN</td>\n",
              "      <td>NaN</td>\n",
              "      <td>NaN</td>\n",
              "      <td>NaN</td>\n",
              "      <td>59.750000</td>\n",
              "    </tr>\n",
              "    <tr>\n",
              "      <th>50%</th>\n",
              "      <td>NaN</td>\n",
              "      <td>NaN</td>\n",
              "      <td>NaN</td>\n",
              "      <td>NaN</td>\n",
              "      <td>NaN</td>\n",
              "      <td>108.000000</td>\n",
              "    </tr>\n",
              "    <tr>\n",
              "      <th>75%</th>\n",
              "      <td>NaN</td>\n",
              "      <td>NaN</td>\n",
              "      <td>NaN</td>\n",
              "      <td>NaN</td>\n",
              "      <td>NaN</td>\n",
              "      <td>150.000000</td>\n",
              "    </tr>\n",
              "    <tr>\n",
              "      <th>max</th>\n",
              "      <td>NaN</td>\n",
              "      <td>NaN</td>\n",
              "      <td>NaN</td>\n",
              "      <td>NaN</td>\n",
              "      <td>NaN</td>\n",
              "      <td>199.000000</td>\n",
              "    </tr>\n",
              "  </tbody>\n",
              "</table>\n",
              "</div>\n",
              "    <div class=\"colab-df-buttons\">\n",
              "\n",
              "  <div class=\"colab-df-container\">\n",
              "    <button class=\"colab-df-convert\" onclick=\"convertToInteractive('df-096107f6-5496-452b-97a6-961f4e42257f')\"\n",
              "            title=\"Convert this dataframe to an interactive table.\"\n",
              "            style=\"display:none;\">\n",
              "\n",
              "  <svg xmlns=\"http://www.w3.org/2000/svg\" height=\"24px\" viewBox=\"0 -960 960 960\">\n",
              "    <path d=\"M120-120v-720h720v720H120Zm60-500h600v-160H180v160Zm220 220h160v-160H400v160Zm0 220h160v-160H400v160ZM180-400h160v-160H180v160Zm440 0h160v-160H620v160ZM180-180h160v-160H180v160Zm440 0h160v-160H620v160Z\"/>\n",
              "  </svg>\n",
              "    </button>\n",
              "\n",
              "  <style>\n",
              "    .colab-df-container {\n",
              "      display:flex;\n",
              "      gap: 12px;\n",
              "    }\n",
              "\n",
              "    .colab-df-convert {\n",
              "      background-color: #E8F0FE;\n",
              "      border: none;\n",
              "      border-radius: 50%;\n",
              "      cursor: pointer;\n",
              "      display: none;\n",
              "      fill: #1967D2;\n",
              "      height: 32px;\n",
              "      padding: 0 0 0 0;\n",
              "      width: 32px;\n",
              "    }\n",
              "\n",
              "    .colab-df-convert:hover {\n",
              "      background-color: #E2EBFA;\n",
              "      box-shadow: 0px 1px 2px rgba(60, 64, 67, 0.3), 0px 1px 3px 1px rgba(60, 64, 67, 0.15);\n",
              "      fill: #174EA6;\n",
              "    }\n",
              "\n",
              "    .colab-df-buttons div {\n",
              "      margin-bottom: 4px;\n",
              "    }\n",
              "\n",
              "    [theme=dark] .colab-df-convert {\n",
              "      background-color: #3B4455;\n",
              "      fill: #D2E3FC;\n",
              "    }\n",
              "\n",
              "    [theme=dark] .colab-df-convert:hover {\n",
              "      background-color: #434B5C;\n",
              "      box-shadow: 0px 1px 3px 1px rgba(0, 0, 0, 0.15);\n",
              "      filter: drop-shadow(0px 1px 2px rgba(0, 0, 0, 0.3));\n",
              "      fill: #FFFFFF;\n",
              "    }\n",
              "  </style>\n",
              "\n",
              "    <script>\n",
              "      const buttonEl =\n",
              "        document.querySelector('#df-096107f6-5496-452b-97a6-961f4e42257f button.colab-df-convert');\n",
              "      buttonEl.style.display =\n",
              "        google.colab.kernel.accessAllowed ? 'block' : 'none';\n",
              "\n",
              "      async function convertToInteractive(key) {\n",
              "        const element = document.querySelector('#df-096107f6-5496-452b-97a6-961f4e42257f');\n",
              "        const dataTable =\n",
              "          await google.colab.kernel.invokeFunction('convertToInteractive',\n",
              "                                                    [key], {});\n",
              "        if (!dataTable) return;\n",
              "\n",
              "        const docLinkHtml = 'Like what you see? Visit the ' +\n",
              "          '<a target=\"_blank\" href=https://colab.research.google.com/notebooks/data_table.ipynb>data table notebook</a>'\n",
              "          + ' to learn more about interactive tables.';\n",
              "        element.innerHTML = '';\n",
              "        dataTable['output_type'] = 'display_data';\n",
              "        await google.colab.output.renderOutput(dataTable, element);\n",
              "        const docLink = document.createElement('div');\n",
              "        docLink.innerHTML = docLinkHtml;\n",
              "        element.appendChild(docLink);\n",
              "      }\n",
              "    </script>\n",
              "  </div>\n",
              "\n",
              "\n",
              "    <div id=\"df-d30b698a-1d32-473e-87f9-ab4db480a124\">\n",
              "      <button class=\"colab-df-quickchart\" onclick=\"quickchart('df-d30b698a-1d32-473e-87f9-ab4db480a124')\"\n",
              "                title=\"Suggest charts\"\n",
              "                style=\"display:none;\">\n",
              "\n",
              "<svg xmlns=\"http://www.w3.org/2000/svg\" height=\"24px\"viewBox=\"0 0 24 24\"\n",
              "     width=\"24px\">\n",
              "    <g>\n",
              "        <path d=\"M19 3H5c-1.1 0-2 .9-2 2v14c0 1.1.9 2 2 2h14c1.1 0 2-.9 2-2V5c0-1.1-.9-2-2-2zM9 17H7v-7h2v7zm4 0h-2V7h2v10zm4 0h-2v-4h2v4z\"/>\n",
              "    </g>\n",
              "</svg>\n",
              "      </button>\n",
              "\n",
              "<style>\n",
              "  .colab-df-quickchart {\n",
              "      --bg-color: #E8F0FE;\n",
              "      --fill-color: #1967D2;\n",
              "      --hover-bg-color: #E2EBFA;\n",
              "      --hover-fill-color: #174EA6;\n",
              "      --disabled-fill-color: #AAA;\n",
              "      --disabled-bg-color: #DDD;\n",
              "  }\n",
              "\n",
              "  [theme=dark] .colab-df-quickchart {\n",
              "      --bg-color: #3B4455;\n",
              "      --fill-color: #D2E3FC;\n",
              "      --hover-bg-color: #434B5C;\n",
              "      --hover-fill-color: #FFFFFF;\n",
              "      --disabled-bg-color: #3B4455;\n",
              "      --disabled-fill-color: #666;\n",
              "  }\n",
              "\n",
              "  .colab-df-quickchart {\n",
              "    background-color: var(--bg-color);\n",
              "    border: none;\n",
              "    border-radius: 50%;\n",
              "    cursor: pointer;\n",
              "    display: none;\n",
              "    fill: var(--fill-color);\n",
              "    height: 32px;\n",
              "    padding: 0;\n",
              "    width: 32px;\n",
              "  }\n",
              "\n",
              "  .colab-df-quickchart:hover {\n",
              "    background-color: var(--hover-bg-color);\n",
              "    box-shadow: 0 1px 2px rgba(60, 64, 67, 0.3), 0 1px 3px 1px rgba(60, 64, 67, 0.15);\n",
              "    fill: var(--button-hover-fill-color);\n",
              "  }\n",
              "\n",
              "  .colab-df-quickchart-complete:disabled,\n",
              "  .colab-df-quickchart-complete:disabled:hover {\n",
              "    background-color: var(--disabled-bg-color);\n",
              "    fill: var(--disabled-fill-color);\n",
              "    box-shadow: none;\n",
              "  }\n",
              "\n",
              "  .colab-df-spinner {\n",
              "    border: 2px solid var(--fill-color);\n",
              "    border-color: transparent;\n",
              "    border-bottom-color: var(--fill-color);\n",
              "    animation:\n",
              "      spin 1s steps(1) infinite;\n",
              "  }\n",
              "\n",
              "  @keyframes spin {\n",
              "    0% {\n",
              "      border-color: transparent;\n",
              "      border-bottom-color: var(--fill-color);\n",
              "      border-left-color: var(--fill-color);\n",
              "    }\n",
              "    20% {\n",
              "      border-color: transparent;\n",
              "      border-left-color: var(--fill-color);\n",
              "      border-top-color: var(--fill-color);\n",
              "    }\n",
              "    30% {\n",
              "      border-color: transparent;\n",
              "      border-left-color: var(--fill-color);\n",
              "      border-top-color: var(--fill-color);\n",
              "      border-right-color: var(--fill-color);\n",
              "    }\n",
              "    40% {\n",
              "      border-color: transparent;\n",
              "      border-right-color: var(--fill-color);\n",
              "      border-top-color: var(--fill-color);\n",
              "    }\n",
              "    60% {\n",
              "      border-color: transparent;\n",
              "      border-right-color: var(--fill-color);\n",
              "    }\n",
              "    80% {\n",
              "      border-color: transparent;\n",
              "      border-right-color: var(--fill-color);\n",
              "      border-bottom-color: var(--fill-color);\n",
              "    }\n",
              "    90% {\n",
              "      border-color: transparent;\n",
              "      border-bottom-color: var(--fill-color);\n",
              "    }\n",
              "  }\n",
              "</style>\n",
              "\n",
              "      <script>\n",
              "        async function quickchart(key) {\n",
              "          const quickchartButtonEl =\n",
              "            document.querySelector('#' + key + ' button');\n",
              "          quickchartButtonEl.disabled = true;  // To prevent multiple clicks.\n",
              "          quickchartButtonEl.classList.add('colab-df-spinner');\n",
              "          try {\n",
              "            const charts = await google.colab.kernel.invokeFunction(\n",
              "                'suggestCharts', [key], {});\n",
              "          } catch (error) {\n",
              "            console.error('Error during call to suggestCharts:', error);\n",
              "          }\n",
              "          quickchartButtonEl.classList.remove('colab-df-spinner');\n",
              "          quickchartButtonEl.classList.add('colab-df-quickchart-complete');\n",
              "        }\n",
              "        (() => {\n",
              "          let quickchartButtonEl =\n",
              "            document.querySelector('#df-d30b698a-1d32-473e-87f9-ab4db480a124 button');\n",
              "          quickchartButtonEl.style.display =\n",
              "            google.colab.kernel.accessAllowed ? 'block' : 'none';\n",
              "        })();\n",
              "      </script>\n",
              "    </div>\n",
              "\n",
              "    </div>\n",
              "  </div>\n"
            ],
            "application/vnd.google.colaboratory.intrinsic+json": {
              "type": "dataframe",
              "summary": "{\n  \"name\": \"fashion\",\n  \"rows\": 11,\n  \"fields\": [\n    {\n      \"column\": \"Brand\",\n      \"properties\": {\n        \"dtype\": \"category\",\n        \"num_unique_values\": 4,\n        \"samples\": [\n          6,\n          \"179\",\n          \"1000\"\n        ],\n        \"semantic_type\": \"\",\n        \"description\": \"\"\n      }\n    },\n    {\n      \"column\": \"Category\",\n      \"properties\": {\n        \"dtype\": \"category\",\n        \"num_unique_values\": 4,\n        \"samples\": [\n          6,\n          \"191\",\n          \"1000\"\n        ],\n        \"semantic_type\": \"\",\n        \"description\": \"\"\n      }\n    },\n    {\n      \"column\": \"Color\",\n      \"properties\": {\n        \"dtype\": \"category\",\n        \"num_unique_values\": 4,\n        \"samples\": [\n          6,\n          \"173\",\n          \"1000\"\n        ],\n        \"semantic_type\": \"\",\n        \"description\": \"\"\n      }\n    },\n    {\n      \"column\": \"Size\",\n      \"properties\": {\n        \"dtype\": \"category\",\n        \"num_unique_values\": 4,\n        \"samples\": [\n          6,\n          \"196\",\n          \"1000\"\n        ],\n        \"semantic_type\": \"\",\n        \"description\": \"\"\n      }\n    },\n    {\n      \"column\": \"Material\",\n      \"properties\": {\n        \"dtype\": \"category\",\n        \"num_unique_values\": 4,\n        \"samples\": [\n          6,\n          \"175\",\n          \"1000\"\n        ],\n        \"semantic_type\": \"\",\n        \"description\": \"\"\n      }\n    },\n    {\n      \"column\": \"Price\",\n      \"properties\": {\n        \"dtype\": \"number\",\n        \"std\": 324.2533135051389,\n        \"min\": 10.0,\n        \"max\": 1000.0,\n        \"num_unique_values\": 8,\n        \"samples\": [\n          106.289,\n          108.0,\n          1000.0\n        ],\n        \"semantic_type\": \"\",\n        \"description\": \"\"\n      }\n    }\n  ]\n}"
            }
          },
          "metadata": {},
          "execution_count": 6
        }
      ]
    },
    {
      "cell_type": "markdown",
      "source": [
        "Fungsi describe() memberikan informasi statistik pada masing-masing kolom, antara lain:\n",
        "\n",
        "- Count  adalah jumlah sampel pada data.\n",
        "- Mean adalah nilai rata-rata.\n",
        "- Std adalah standar deviasi.\n",
        "- Min yaitu nilai minimum setiap kolom.\n",
        "- 25% adalah kuartil pertama. Kuartil adalah nilai yang menandai batas interval dalam empat bagian sebaran yang sama.\n",
        "- 50% adalah kuartil kedua, atau biasa juga disebut median (nilai tengah).\n",
        "- 75% adalah kuartil ketiga.\n",
        "- Max adalah nilai maksimum."
      ],
      "metadata": {
        "id": "oWanmgyYaj1x"
      }
    },
    {
      "cell_type": "markdown",
      "source": [
        "# 4.1 Cek Missing value"
      ],
      "metadata": {
        "id": "syS8Fi6NpwH-"
      }
    },
    {
      "cell_type": "code",
      "source": [
        "#cek missing value pada setiap fitur\n",
        "fashion.isnull().sum()"
      ],
      "metadata": {
        "id": "hNz1rLPoaDNO",
        "colab": {
          "base_uri": "https://localhost:8080/",
          "height": 272
        },
        "outputId": "0c8a3ee0-589a-4c9f-e036-fa87f6a0e8b3"
      },
      "execution_count": 7,
      "outputs": [
        {
          "output_type": "execute_result",
          "data": {
            "text/plain": [
              "Brand       0\n",
              "Category    0\n",
              "Color       0\n",
              "Size        0\n",
              "Material    0\n",
              "Price       0\n",
              "dtype: int64"
            ],
            "text/html": [
              "<div>\n",
              "<style scoped>\n",
              "    .dataframe tbody tr th:only-of-type {\n",
              "        vertical-align: middle;\n",
              "    }\n",
              "\n",
              "    .dataframe tbody tr th {\n",
              "        vertical-align: top;\n",
              "    }\n",
              "\n",
              "    .dataframe thead th {\n",
              "        text-align: right;\n",
              "    }\n",
              "</style>\n",
              "<table border=\"1\" class=\"dataframe\">\n",
              "  <thead>\n",
              "    <tr style=\"text-align: right;\">\n",
              "      <th></th>\n",
              "      <th>0</th>\n",
              "    </tr>\n",
              "  </thead>\n",
              "  <tbody>\n",
              "    <tr>\n",
              "      <th>Brand</th>\n",
              "      <td>0</td>\n",
              "    </tr>\n",
              "    <tr>\n",
              "      <th>Category</th>\n",
              "      <td>0</td>\n",
              "    </tr>\n",
              "    <tr>\n",
              "      <th>Color</th>\n",
              "      <td>0</td>\n",
              "    </tr>\n",
              "    <tr>\n",
              "      <th>Size</th>\n",
              "      <td>0</td>\n",
              "    </tr>\n",
              "    <tr>\n",
              "      <th>Material</th>\n",
              "      <td>0</td>\n",
              "    </tr>\n",
              "    <tr>\n",
              "      <th>Price</th>\n",
              "      <td>0</td>\n",
              "    </tr>\n",
              "  </tbody>\n",
              "</table>\n",
              "</div><br><label><b>dtype:</b> int64</label>"
            ]
          },
          "metadata": {},
          "execution_count": 7
        }
      ]
    },
    {
      "cell_type": "markdown",
      "source": [
        "tidak ada missing value dari dataset ini"
      ],
      "metadata": {
        "id": "USLxq6_9cP6F"
      }
    },
    {
      "cell_type": "code",
      "source": [
        "#cek duplikat\n",
        "fashion.duplicated().sum()"
      ],
      "metadata": {
        "colab": {
          "base_uri": "https://localhost:8080/"
        },
        "id": "wX89fv0iKL-2",
        "outputId": "c17812d8-1c2f-4136-eb73-3925057a52d7"
      },
      "execution_count": 8,
      "outputs": [
        {
          "output_type": "execute_result",
          "data": {
            "text/plain": [
              "np.int64(0)"
            ]
          },
          "metadata": {},
          "execution_count": 8
        }
      ]
    },
    {
      "cell_type": "markdown",
      "source": [
        "tidak ada duplikasi dari dataset ini"
      ],
      "metadata": {
        "id": "jNmsUVZWKup_"
      }
    },
    {
      "cell_type": "markdown",
      "source": [
        "# 4.2 Menangani Outliers"
      ],
      "metadata": {
        "id": "6y4qthYMhWXe"
      }
    },
    {
      "cell_type": "markdown",
      "source": [
        "Pada kasus ini, akan mendeteksi outliers dengan teknik visualisasi data (boxplot)."
      ],
      "metadata": {
        "id": "bDPy01aNic3j"
      }
    },
    {
      "cell_type": "code",
      "source": [
        "#fitur Price\n",
        "sns.boxplot(x=fashion['Price'])"
      ],
      "metadata": {
        "id": "H-7ZcZrlt54L",
        "colab": {
          "base_uri": "https://localhost:8080/",
          "height": 466
        },
        "outputId": "d2eadcf4-0945-4e8d-90ac-dfa069262781"
      },
      "execution_count": 9,
      "outputs": [
        {
          "output_type": "execute_result",
          "data": {
            "text/plain": [
              "<Axes: xlabel='Price'>"
            ]
          },
          "metadata": {},
          "execution_count": 9
        },
        {
          "output_type": "display_data",
          "data": {
            "text/plain": [
              "<Figure size 640x480 with 1 Axes>"
            ],
            "image/png": "[encoded data removed]"
          },
          "metadata": {}
        }
      ]
    },
    {
      "cell_type": "markdown",
      "source": [
        "Output:\n",
        "Tidak ada outlier pada fitur price"
      ],
      "metadata": {
        "id": "3W7Kqlhe5fwO"
      }
    },
    {
      "cell_type": "markdown",
      "source": [
        "# 4.3 Distribusi Harga berdasarkan Kategori"
      ],
      "metadata": {
        "id": "9ShWv6PpuNQM"
      }
    },
    {
      "cell_type": "code",
      "source": [
        "import seaborn as sns\n",
        "import matplotlib.pyplot as plt\n",
        "\n",
        "categorical_cols = ['Brand', 'Category', 'Color', 'Size', 'Material']\n",
        "\n",
        "for col in categorical_cols:\n",
        "    plt.figure(figsize=(10, 5))\n",
        "    sns.boxplot(x=col, y='Price', data=fashion)\n",
        "    plt.xticks(rotation=45)\n",
        "    plt.title(f'Distribusi Harga berdasarkan {col}')\n",
        "    plt.tight_layout()\n",
        "    plt.show()\n"
      ],
      "metadata": {
        "id": "SVc-YpN2p85F",
        "colab": {
          "base_uri": "https://localhost:8080/",
          "height": 1000
        },
        "outputId": "b7afe979-b5b0-4cb7-a501-c8ad4f96b722"
      },
      "execution_count": 10,
      "outputs": [
        {
          "output_type": "display_data",
          "data": {
            "text/plain": [
              "<Figure size 1000x500 with 1 Axes>"
            ],
            "image/png": "[encoded data removed]"
          },
          "metadata": {}
        },
        {
          "output_type": "display_data",
          "data": {
            "text/plain": [
              "<Figure size 1000x500 with 1 Axes>"
            ],
            "image/png": "[encoded data removed]"
          },
          "metadata": {}
        },
        {
          "output_type": "display_data",
          "data": {
            "text/plain": [
              "<Figure size 1000x500 with 1 Axes>"
            ],
            "image/png": "[encoded data removed]"
          },
          "metadata": {}
        },
        {
          "output_type": "display_data",
          "data": {
            "text/plain": [
              "<Figure size 1000x500 with 1 Axes>"
            ],
            "image/png": "[encoded data removed]"
          },
          "metadata": {}
        },
        {
          "output_type": "display_data",
          "data": {
            "text/plain": [
              "<Figure size 1000x500 with 1 Axes>"
            ],
            "image/png": "[encoded data removed]"
          },
          "metadata": {}
        }
      ]
    },
    {
      "cell_type": "markdown",
      "source": [
        "Output:\n",
        "\n",
        "1. Distribusi Harga berdasarkan Size : Semua ukuran (XS, S, M, L, XL, XXL) menunjukkan distribusi harga yang mirip, baik dari median maupun rentang interkuartil (IQR). Median harga berada di sekitar angka 100–120 untuk semua size.\n",
        "\n",
        "2. Distribusi Harga berdasarkan Brand :\n",
        "New Balance dan Puma terlihat memiliki median harga sedikit lebih tinggi dibanding brand lain. Brand seperti Under Armour, Nike, Adidas, dan Reebok memiliki median harga yang lebih rendah namun dengan distribusi yang serupa.\n",
        "\n",
        "\n",
        "3. Distribusi Harga berdasarkan Category : Dress dan Shoes memiliki median harga tertinggi, menunjukkan produk dalam kategori ini cenderung lebih mahal T-shirt dan Jacket punya median yang lebih rendah dan IQR yang lebih luas, menunjukkan variasi harga lebih besar dalam kategori ini.\n",
        "\n",
        "4. Distribusi Harga berdasarkan Color : Semua warna memiliki distribusi harga yang mirip, tidak ada perbedaan signifikan. Putih dan Merah sedikit lebih tinggi median-nya dibanding warna lain, tapi tidak signifikan. Hal ini menunjukkan bahwa warna produk tidak banyak memengaruhi harga.\n",
        "\n",
        "5. Distribusi Harga berdasarkan Material : Nylon dan Wool cenderung memiliki harga median tertinggi, menunjukkan produk berbahan ini bisa lebih mahal. Silk justru memiliki median harga lebih rendah, meskipun biasanya dianggap bahan mewah—bisa jadi karena jenis produk yang dijual.\n",
        "\n",
        "\n",
        "Kesimpulan Umum: Faktor paling berdampak terhadap harga tampaknya adalah Category dan Material, di mana perbedaan median dan rentang harga cukup terlihat."
      ],
      "metadata": {
        "id": "fPQCwOjRwwWF"
      }
    },
    {
      "cell_type": "markdown",
      "source": [
        "# 4.4 Visualisasi Frekuensi Kategori"
      ],
      "metadata": {
        "id": "RoHJaXlLwyIl"
      }
    },
    {
      "cell_type": "code",
      "source": [
        "import seaborn as sns\n",
        "import matplotlib.pyplot as plt\n",
        "\n",
        "categorical_cols = ['Brand', 'Category', 'Color', 'Size', 'Material']\n",
        "\n",
        "for col in categorical_cols:\n",
        "    plt.figure(figsize=(10, 5))\n",
        "    order = fashion[col].value_counts().index  # Urutkan berdasarkan frekuensi\n",
        "    sns.countplot(data=fashion, x=col, order=order, palette='viridis')\n",
        "    plt.title(f'Frekuensi Kategori: {col}', fontsize=14)\n",
        "    plt.xticks(rotation=45)\n",
        "    plt.xlabel(col)\n",
        "    plt.ylabel('Jumlah')\n",
        "    plt.tight_layout()\n",
        "    plt.show()\n"
      ],
      "metadata": {
        "id": "jSix-iyBw8H3",
        "colab": {
          "base_uri": "https://localhost:8080/",
          "height": 1000
        },
        "outputId": "09019a01-9d48-47eb-c895-36cf412ac04a"
      },
      "execution_count": 11,
      "outputs": [
        {
          "output_type": "stream",
          "name": "stderr",
          "text": [
            "<ipython-input-11-4fc32d5ef201>:9: FutureWarning: \n",
            "\n",
            "Passing `palette` without assigning `hue` is deprecated and will be removed in v0.14.0. Assign the `x` variable to `hue` and set `legend=False` for the same effect.\n",
            "\n",
            "  sns.countplot(data=fashion, x=col, order=order, palette='viridis')\n"
          ]
        },
        {
          "output_type": "display_data",
          "data": {
            "text/plain": [
              "<Figure size 1000x500 with 1 Axes>"
            ],
            "image/png": "[encoded data removed]"
          },
          "metadata": {}
        },
        {
          "output_type": "stream",
          "name": "stderr",
          "text": [
            "<ipython-input-11-4fc32d5ef201>:9: FutureWarning: \n",
            "\n",
            "Passing `palette` without assigning `hue` is deprecated and will be removed in v0.14.0. Assign the `x` variable to `hue` and set `legend=False` for the same effect.\n",
            "\n",
            "  sns.countplot(data=fashion, x=col, order=order, palette='viridis')\n"
          ]
        },
        {
          "output_type": "display_data",
          "data": {
            "text/plain": [
              "<Figure size 1000x500 with 1 Axes>"
            ],
            "image/png": "[encoded data removed]"
          },
          "metadata": {}
        },
        {
          "output_type": "stream",
          "name": "stderr",
          "text": [
            "<ipython-input-11-4fc32d5ef201>:9: FutureWarning: \n",
            "\n",
            "Passing `palette` without assigning `hue` is deprecated and will be removed in v0.14.0. Assign the `x` variable to `hue` and set `legend=False` for the same effect.\n",
            "\n",
            "  sns.countplot(data=fashion, x=col, order=order, palette='viridis')\n"
          ]
        },
        {
          "output_type": "display_data",
          "data": {
            "text/plain": [
              "<Figure size 1000x500 with 1 Axes>"
            ],
            "image/png": "[encoded data removed]"
          },
          "metadata": {}
        },
        {
          "output_type": "stream",
          "name": "stderr",
          "text": [
            "<ipython-input-11-4fc32d5ef201>:9: FutureWarning: \n",
            "\n",
            "Passing `palette` without assigning `hue` is deprecated and will be removed in v0.14.0. Assign the `x` variable to `hue` and set `legend=False` for the same effect.\n",
            "\n",
            "  sns.countplot(data=fashion, x=col, order=order, palette='viridis')\n"
          ]
        },
        {
          "output_type": "display_data",
          "data": {
            "text/plain": [
              "<Figure size 1000x500 with 1 Axes>"
            ],
            "image/png": "[encoded data removed]"
          },
          "metadata": {}
        },
        {
          "output_type": "stream",
          "name": "stderr",
          "text": [
            "<ipython-input-11-4fc32d5ef201>:9: FutureWarning: \n",
            "\n",
            "Passing `palette` without assigning `hue` is deprecated and will be removed in v0.14.0. Assign the `x` variable to `hue` and set `legend=False` for the same effect.\n",
            "\n",
            "  sns.countplot(data=fashion, x=col, order=order, palette='viridis')\n"
          ]
        },
        {
          "output_type": "display_data",
          "data": {
            "text/plain": [
              "<Figure size 1000x500 with 1 Axes>"
            ],
            "image/png": "[encoded data removed]"
          },
          "metadata": {}
        }
      ]
    },
    {
      "cell_type": "markdown",
      "source": [
        "Output:\n",
        "\n",
        "Berdasarkan hasil grafik di atas dapat disimpulkan bahwa setiap fitur memiliki kategori dengan frekuensi yang tidak jauh berbeda, Berikut beberapa kategori yang memiliki frekuensi tertinggi:\n",
        "\n",
        "- Brand dengan frekuensi tertinggi adalah brand Under Armour, menunjukkan brand ini paling dominan dalam dataset.\n",
        "- Pada fitur Category, kategori dengan jumlah produk terbanyak adalah Jacket.\n",
        "- Untuk fitur Color, warna yang paling sering muncul adalah Yellow.\n",
        "- Pada fitur Size, ukuran XS memiliki frekuensi tertinggi dibandingkan ukuran lainnya.\n",
        "- Sementara itu, pada fitur Material, bahan Polyester menjadi material yang paling banyak digunakan.\n",
        "\n",
        "Kesimpulan ini menunjukkan bahwa kelima fitur tersebut memiliki sebaran yang cukup merata."
      ],
      "metadata": {
        "id": "NUqNRkZqyKAU"
      }
    },
    {
      "cell_type": "markdown",
      "source": [
        "# 5. Data Preparation"
      ],
      "metadata": {
        "id": "b_waLyOnYHiU"
      }
    },
    {
      "cell_type": "markdown",
      "source": [
        "## 5.1 Encoding Fitur Kategori"
      ],
      "metadata": {
        "id": "emEUWnxJGiRm"
      }
    },
    {
      "cell_type": "code",
      "source": [
        "from sklearn.preprocessing import LabelEncoder\n",
        "# Buat list semua kolom kategorikal (non-numerik)\n",
        "categorical_cols = fashion.select_dtypes(include=['object']).columns.tolist()\n",
        "\n",
        "# Inisialisasi label encoder\n",
        "le = LabelEncoder()\n",
        "\n",
        "# Apply label encoder ke semua kolom kategorikal\n",
        "for col in categorical_cols:\n",
        "    fashion[col] = le.fit_transform(fashion[col].astype(str))\n",
        "\n",
        "fashion"
      ],
      "metadata": {
        "colab": {
          "base_uri": "https://localhost:8080/",
          "height": 424
        },
        "id": "tZkk-75GHEnw",
        "outputId": "abbd2b05-ef76-4e83-9266-8e7a181bd0d0"
      },
      "execution_count": 12,
      "outputs": [
        {
          "output_type": "execute_result",
          "data": {
            "text/plain": [
              "     Brand  Category  Color  Size  Material  Price\n",
              "0        1         0      4     4         2    182\n",
              "1        1         2      0     4         4     57\n",
              "2        5         0      3     1         5    127\n",
              "3        2         3      2     1         0     77\n",
              "4        0         4      4     1         2    113\n",
              "..     ...       ...    ...   ...       ...    ...\n",
              "995      3         2      0     0         3    176\n",
              "996      3         1      3     5         4    110\n",
              "997      4         4      1     4         1    127\n",
              "998      5         4      0     5         1     69\n",
              "999      1         1      5     4         5    174\n",
              "\n",
              "[1000 rows x 6 columns]"
            ],
            "text/html": [
              "\n",
              "  <div id=\"df-be326d9b-6df3-4bb1-9735-a6263dfaf6b0\" class=\"colab-df-container\">\n",
              "    <div>\n",
              "<style scoped>\n",
              "    .dataframe tbody tr th:only-of-type {\n",
              "        vertical-align: middle;\n",
              "    }\n",
              "\n",
              "    .dataframe tbody tr th {\n",
              "        vertical-align: top;\n",
              "    }\n",
              "\n",
              "    .dataframe thead th {\n",
              "        text-align: right;\n",
              "    }\n",
              "</style>\n",
              "<table border=\"1\" class=\"dataframe\">\n",
              "  <thead>\n",
              "    <tr style=\"text-align: right;\">\n",
              "      <th></th>\n",
              "      <th>Brand</th>\n",
              "      <th>Category</th>\n",
              "      <th>Color</th>\n",
              "      <th>Size</th>\n",
              "      <th>Material</th>\n",
              "      <th>Price</th>\n",
              "    </tr>\n",
              "  </thead>\n",
              "  <tbody>\n",
              "    <tr>\n",
              "      <th>0</th>\n",
              "      <td>1</td>\n",
              "      <td>0</td>\n",
              "      <td>4</td>\n",
              "      <td>4</td>\n",
              "      <td>2</td>\n",
              "      <td>182</td>\n",
              "    </tr>\n",
              "    <tr>\n",
              "      <th>1</th>\n",
              "      <td>1</td>\n",
              "      <td>2</td>\n",
              "      <td>0</td>\n",
              "      <td>4</td>\n",
              "      <td>4</td>\n",
              "      <td>57</td>\n",
              "    </tr>\n",
              "    <tr>\n",
              "      <th>2</th>\n",
              "      <td>5</td>\n",
              "      <td>0</td>\n",
              "      <td>3</td>\n",
              "      <td>1</td>\n",
              "      <td>5</td>\n",
              "      <td>127</td>\n",
              "    </tr>\n",
              "    <tr>\n",
              "      <th>3</th>\n",
              "      <td>2</td>\n",
              "      <td>3</td>\n",
              "      <td>2</td>\n",
              "      <td>1</td>\n",
              "      <td>0</td>\n",
              "      <td>77</td>\n",
              "    </tr>\n",
              "    <tr>\n",
              "      <th>4</th>\n",
              "      <td>0</td>\n",
              "      <td>4</td>\n",
              "      <td>4</td>\n",
              "      <td>1</td>\n",
              "      <td>2</td>\n",
              "      <td>113</td>\n",
              "    </tr>\n",
              "    <tr>\n",
              "      <th>...</th>\n",
              "      <td>...</td>\n",
              "      <td>...</td>\n",
              "      <td>...</td>\n",
              "      <td>...</td>\n",
              "      <td>...</td>\n",
              "      <td>...</td>\n",
              "    </tr>\n",
              "    <tr>\n",
              "      <th>995</th>\n",
              "      <td>3</td>\n",
              "      <td>2</td>\n",
              "      <td>0</td>\n",
              "      <td>0</td>\n",
              "      <td>3</td>\n",
              "      <td>176</td>\n",
              "    </tr>\n",
              "    <tr>\n",
              "      <th>996</th>\n",
              "      <td>3</td>\n",
              "      <td>1</td>\n",
              "      <td>3</td>\n",
              "      <td>5</td>\n",
              "      <td>4</td>\n",
              "      <td>110</td>\n",
              "    </tr>\n",
              "    <tr>\n",
              "      <th>997</th>\n",
              "      <td>4</td>\n",
              "      <td>4</td>\n",
              "      <td>1</td>\n",
              "      <td>4</td>\n",
              "      <td>1</td>\n",
              "      <td>127</td>\n",
              "    </tr>\n",
              "    <tr>\n",
              "      <th>998</th>\n",
              "      <td>5</td>\n",
              "      <td>4</td>\n",
              "      <td>0</td>\n",
              "      <td>5</td>\n",
              "      <td>1</td>\n",
              "      <td>69</td>\n",
              "    </tr>\n",
              "    <tr>\n",
              "      <th>999</th>\n",
              "      <td>1</td>\n",
              "      <td>1</td>\n",
              "      <td>5</td>\n",
              "      <td>4</td>\n",
              "      <td>5</td>\n",
              "      <td>174</td>\n",
              "    </tr>\n",
              "  </tbody>\n",
              "</table>\n",
              "<p>1000 rows × 6 columns</p>\n",
              "</div>\n",
              "    <div class=\"colab-df-buttons\">\n",
              "\n",
              "  <div class=\"colab-df-container\">\n",
              "    <button class=\"colab-df-convert\" onclick=\"convertToInteractive('df-be326d9b-6df3-4bb1-9735-a6263dfaf6b0')\"\n",
              "            title=\"Convert this dataframe to an interactive table.\"\n",
              "            style=\"display:none;\">\n",
              "\n",
              "  <svg xmlns=\"http://www.w3.org/2000/svg\" height=\"24px\" viewBox=\"0 -960 960 960\">\n",
              "    <path d=\"M120-120v-720h720v720H120Zm60-500h600v-160H180v160Zm220 220h160v-160H400v160Zm0 220h160v-160H400v160ZM180-400h160v-160H180v160Zm440 0h160v-160H620v160ZM180-180h160v-160H180v160Zm440 0h160v-160H620v160Z\"/>\n",
              "  </svg>\n",
              "    </button>\n",
              "\n",
              "  <style>\n",
              "    .colab-df-container {\n",
              "      display:flex;\n",
              "      gap: 12px;\n",
              "    }\n",
              "\n",
              "    .colab-df-convert {\n",
              "      background-color: #E8F0FE;\n",
              "      border: none;\n",
              "      border-radius: 50%;\n",
              "      cursor: pointer;\n",
              "      display: none;\n",
              "      fill: #1967D2;\n",
              "      height: 32px;\n",
              "      padding: 0 0 0 0;\n",
              "      width: 32px;\n",
              "    }\n",
              "\n",
              "    .colab-df-convert:hover {\n",
              "      background-color: #E2EBFA;\n",
              "      box-shadow: 0px 1px 2px rgba(60, 64, 67, 0.3), 0px 1px 3px 1px rgba(60, 64, 67, 0.15);\n",
              "      fill: #174EA6;\n",
              "    }\n",
              "\n",
              "    .colab-df-buttons div {\n",
              "      margin-bottom: 4px;\n",
              "    }\n",
              "\n",
              "    [theme=dark] .colab-df-convert {\n",
              "      background-color: #3B4455;\n",
              "      fill: #D2E3FC;\n",
              "    }\n",
              "\n",
              "    [theme=dark] .colab-df-convert:hover {\n",
              "      background-color: #434B5C;\n",
              "      box-shadow: 0px 1px 3px 1px rgba(0, 0, 0, 0.15);\n",
              "      filter: drop-shadow(0px 1px 2px rgba(0, 0, 0, 0.3));\n",
              "      fill: #FFFFFF;\n",
              "    }\n",
              "  </style>\n",
              "\n",
              "    <script>\n",
              "      const buttonEl =\n",
              "        document.querySelector('#df-be326d9b-6df3-4bb1-9735-a6263dfaf6b0 button.colab-df-convert');\n",
              "      buttonEl.style.display =\n",
              "        google.colab.kernel.accessAllowed ? 'block' : 'none';\n",
              "\n",
              "      async function convertToInteractive(key) {\n",
              "        const element = document.querySelector('#df-be326d9b-6df3-4bb1-9735-a6263dfaf6b0');\n",
              "        const dataTable =\n",
              "          await google.colab.kernel.invokeFunction('convertToInteractive',\n",
              "                                                    [key], {});\n",
              "        if (!dataTable) return;\n",
              "\n",
              "        const docLinkHtml = 'Like what you see? Visit the ' +\n",
              "          '<a target=\"_blank\" href=https://colab.research.google.com/notebooks/data_table.ipynb>data table notebook</a>'\n",
              "          + ' to learn more about interactive tables.';\n",
              "        element.innerHTML = '';\n",
              "        dataTable['output_type'] = 'display_data';\n",
              "        await google.colab.output.renderOutput(dataTable, element);\n",
              "        const docLink = document.createElement('div');\n",
              "        docLink.innerHTML = docLinkHtml;\n",
              "        element.appendChild(docLink);\n",
              "      }\n",
              "    </script>\n",
              "  </div>\n",
              "\n",
              "\n",
              "    <div id=\"df-7762fd40-48d1-417d-96e9-66394c285bd6\">\n",
              "      <button class=\"colab-df-quickchart\" onclick=\"quickchart('df-7762fd40-48d1-417d-96e9-66394c285bd6')\"\n",
              "                title=\"Suggest charts\"\n",
              "                style=\"display:none;\">\n",
              "\n",
              "<svg xmlns=\"http://www.w3.org/2000/svg\" height=\"24px\"viewBox=\"0 0 24 24\"\n",
              "     width=\"24px\">\n",
              "    <g>\n",
              "        <path d=\"M19 3H5c-1.1 0-2 .9-2 2v14c0 1.1.9 2 2 2h14c1.1 0 2-.9 2-2V5c0-1.1-.9-2-2-2zM9 17H7v-7h2v7zm4 0h-2V7h2v10zm4 0h-2v-4h2v4z\"/>\n",
              "    </g>\n",
              "</svg>\n",
              "      </button>\n",
              "\n",
              "<style>\n",
              "  .colab-df-quickchart {\n",
              "      --bg-color: #E8F0FE;\n",
              "      --fill-color: #1967D2;\n",
              "      --hover-bg-color: #E2EBFA;\n",
              "      --hover-fill-color: #174EA6;\n",
              "      --disabled-fill-color: #AAA;\n",
              "      --disabled-bg-color: #DDD;\n",
              "  }\n",
              "\n",
              "  [theme=dark] .colab-df-quickchart {\n",
              "      --bg-color: #3B4455;\n",
              "      --fill-color: #D2E3FC;\n",
              "      --hover-bg-color: #434B5C;\n",
              "      --hover-fill-color: #FFFFFF;\n",
              "      --disabled-bg-color: #3B4455;\n",
              "      --disabled-fill-color: #666;\n",
              "  }\n",
              "\n",
              "  .colab-df-quickchart {\n",
              "    background-color: var(--bg-color);\n",
              "    border: none;\n",
              "    border-radius: 50%;\n",
              "    cursor: pointer;\n",
              "    display: none;\n",
              "    fill: var(--fill-color);\n",
              "    height: 32px;\n",
              "    padding: 0;\n",
              "    width: 32px;\n",
              "  }\n",
              "\n",
              "  .colab-df-quickchart:hover {\n",
              "    background-color: var(--hover-bg-color);\n",
              "    box-shadow: 0 1px 2px rgba(60, 64, 67, 0.3), 0 1px 3px 1px rgba(60, 64, 67, 0.15);\n",
              "    fill: var(--button-hover-fill-color);\n",
              "  }\n",
              "\n",
              "  .colab-df-quickchart-complete:disabled,\n",
              "  .colab-df-quickchart-complete:disabled:hover {\n",
              "    background-color: var(--disabled-bg-color);\n",
              "    fill: var(--disabled-fill-color);\n",
              "    box-shadow: none;\n",
              "  }\n",
              "\n",
              "  .colab-df-spinner {\n",
              "    border: 2px solid var(--fill-color);\n",
              "    border-color: transparent;\n",
              "    border-bottom-color: var(--fill-color);\n",
              "    animation:\n",
              "      spin 1s steps(1) infinite;\n",
              "  }\n",
              "\n",
              "  @keyframes spin {\n",
              "    0% {\n",
              "      border-color: transparent;\n",
              "      border-bottom-color: var(--fill-color);\n",
              "      border-left-color: var(--fill-color);\n",
              "    }\n",
              "    20% {\n",
              "      border-color: transparent;\n",
              "      border-left-color: var(--fill-color);\n",
              "      border-top-color: var(--fill-color);\n",
              "    }\n",
              "    30% {\n",
              "      border-color: transparent;\n",
              "      border-left-color: var(--fill-color);\n",
              "      border-top-color: var(--fill-color);\n",
              "      border-right-color: var(--fill-color);\n",
              "    }\n",
              "    40% {\n",
              "      border-color: transparent;\n",
              "      border-right-color: var(--fill-color);\n",
              "      border-top-color: var(--fill-color);\n",
              "    }\n",
              "    60% {\n",
              "      border-color: transparent;\n",
              "      border-right-color: var(--fill-color);\n",
              "    }\n",
              "    80% {\n",
              "      border-color: transparent;\n",
              "      border-right-color: var(--fill-color);\n",
              "      border-bottom-color: var(--fill-color);\n",
              "    }\n",
              "    90% {\n",
              "      border-color: transparent;\n",
              "      border-bottom-color: var(--fill-color);\n",
              "    }\n",
              "  }\n",
              "</style>\n",
              "\n",
              "      <script>\n",
              "        async function quickchart(key) {\n",
              "          const quickchartButtonEl =\n",
              "            document.querySelector('#' + key + ' button');\n",
              "          quickchartButtonEl.disabled = true;  // To prevent multiple clicks.\n",
              "          quickchartButtonEl.classList.add('colab-df-spinner');\n",
              "          try {\n",
              "            const charts = await google.colab.kernel.invokeFunction(\n",
              "                'suggestCharts', [key], {});\n",
              "          } catch (error) {\n",
              "            console.error('Error during call to suggestCharts:', error);\n",
              "          }\n",
              "          quickchartButtonEl.classList.remove('colab-df-spinner');\n",
              "          quickchartButtonEl.classList.add('colab-df-quickchart-complete');\n",
              "        }\n",
              "        (() => {\n",
              "          let quickchartButtonEl =\n",
              "            document.querySelector('#df-7762fd40-48d1-417d-96e9-66394c285bd6 button');\n",
              "          quickchartButtonEl.style.display =\n",
              "            google.colab.kernel.accessAllowed ? 'block' : 'none';\n",
              "        })();\n",
              "      </script>\n",
              "    </div>\n",
              "\n",
              "  <div id=\"id_533cd82f-def1-472f-83ef-42ce8662f3ae\">\n",
              "    <style>\n",
              "      .colab-df-generate {\n",
              "        background-color: #E8F0FE;\n",
              "        border: none;\n",
              "        border-radius: 50%;\n",
              "        cursor: pointer;\n",
              "        display: none;\n",
              "        fill: #1967D2;\n",
              "        height: 32px;\n",
              "        padding: 0 0 0 0;\n",
              "        width: 32px;\n",
              "      }\n",
              "\n",
              "      .colab-df-generate:hover {\n",
              "        background-color: #E2EBFA;\n",
              "        box-shadow: 0px 1px 2px rgba(60, 64, 67, 0.3), 0px 1px 3px 1px rgba(60, 64, 67, 0.15);\n",
              "        fill: #174EA6;\n",
              "      }\n",
              "\n",
              "      [theme=dark] .colab-df-generate {\n",
              "        background-color: #3B4455;\n",
              "        fill: #D2E3FC;\n",
              "      }\n",
              "\n",
              "      [theme=dark] .colab-df-generate:hover {\n",
              "        background-color: #434B5C;\n",
              "        box-shadow: 0px 1px 3px 1px rgba(0, 0, 0, 0.15);\n",
              "        filter: drop-shadow(0px 1px 2px rgba(0, 0, 0, 0.3));\n",
              "        fill: #FFFFFF;\n",
              "      }\n",
              "    </style>\n",
              "    <button class=\"colab-df-generate\" onclick=\"generateWithVariable('fashion')\"\n",
              "            title=\"Generate code using this dataframe.\"\n",
              "            style=\"display:none;\">\n",
              "\n",
              "  <svg xmlns=\"http://www.w3.org/2000/svg\" height=\"24px\"viewBox=\"0 0 24 24\"\n",
              "       width=\"24px\">\n",
              "    <path d=\"M7,19H8.4L18.45,9,17,7.55,7,17.6ZM5,21V16.75L18.45,3.32a2,2,0,0,1,2.83,0l1.4,1.43a1.91,1.91,0,0,1,.58,1.4,1.91,1.91,0,0,1-.58,1.4L9.25,21ZM18.45,9,17,7.55Zm-12,3A5.31,5.31,0,0,0,4.9,8.1,5.31,5.31,0,0,0,1,6.5,5.31,5.31,0,0,0,4.9,4.9,5.31,5.31,0,0,0,6.5,1,5.31,5.31,0,0,0,8.1,4.9,5.31,5.31,0,0,0,12,6.5,5.46,5.46,0,0,0,6.5,12Z\"/>\n",
              "  </svg>\n",
              "    </button>\n",
              "    <script>\n",
              "      (() => {\n",
              "      const buttonEl =\n",
              "        document.querySelector('#id_533cd82f-def1-472f-83ef-42ce8662f3ae button.colab-df-generate');\n",
              "      buttonEl.style.display =\n",
              "        google.colab.kernel.accessAllowed ? 'block' : 'none';\n",
              "\n",
              "      buttonEl.onclick = () => {\n",
              "        google.colab.notebook.generateWithVariable('fashion');\n",
              "      }\n",
              "      })();\n",
              "    </script>\n",
              "  </div>\n",
              "\n",
              "    </div>\n",
              "  </div>\n"
            ],
            "application/vnd.google.colaboratory.intrinsic+json": {
              "type": "dataframe",
              "variable_name": "fashion",
              "summary": "{\n  \"name\": \"fashion\",\n  \"rows\": 1000,\n  \"fields\": [\n    {\n      \"column\": \"Brand\",\n      \"properties\": {\n        \"dtype\": \"number\",\n        \"std\": 1,\n        \"min\": 0,\n        \"max\": 5,\n        \"num_unique_values\": 6,\n        \"samples\": [\n          1,\n          5,\n          3\n        ],\n        \"semantic_type\": \"\",\n        \"description\": \"\"\n      }\n    },\n    {\n      \"column\": \"Category\",\n      \"properties\": {\n        \"dtype\": \"number\",\n        \"std\": 1,\n        \"min\": 0,\n        \"max\": 5,\n        \"num_unique_values\": 6,\n        \"samples\": [\n          0,\n          2,\n          5\n        ],\n        \"semantic_type\": \"\",\n        \"description\": \"\"\n      }\n    },\n    {\n      \"column\": \"Color\",\n      \"properties\": {\n        \"dtype\": \"number\",\n        \"std\": 1,\n        \"min\": 0,\n        \"max\": 5,\n        \"num_unique_values\": 6,\n        \"samples\": [\n          4,\n          0,\n          1\n        ],\n        \"semantic_type\": \"\",\n        \"description\": \"\"\n      }\n    },\n    {\n      \"column\": \"Size\",\n      \"properties\": {\n        \"dtype\": \"number\",\n        \"std\": 1,\n        \"min\": 0,\n        \"max\": 5,\n        \"num_unique_values\": 6,\n        \"samples\": [\n          4,\n          1,\n          0\n        ],\n        \"semantic_type\": \"\",\n        \"description\": \"\"\n      }\n    },\n    {\n      \"column\": \"Material\",\n      \"properties\": {\n        \"dtype\": \"number\",\n        \"std\": 1,\n        \"min\": 0,\n        \"max\": 5,\n        \"num_unique_values\": 6,\n        \"samples\": [\n          2,\n          4,\n          1\n        ],\n        \"semantic_type\": \"\",\n        \"description\": \"\"\n      }\n    },\n    {\n      \"column\": \"Price\",\n      \"properties\": {\n        \"dtype\": \"number\",\n        \"std\": 53,\n        \"min\": 10,\n        \"max\": 199,\n        \"num_unique_values\": 190,\n        \"samples\": [\n          70,\n          189,\n          117\n        ],\n        \"semantic_type\": \"\",\n        \"description\": \"\"\n      }\n    }\n  ]\n}"
            }
          },
          "metadata": {},
          "execution_count": 12
        }
      ]
    },
    {
      "cell_type": "markdown",
      "source": [
        "## 5.2 Pembagian dataset"
      ],
      "metadata": {
        "id": "oDyjkoF6GtaS"
      }
    },
    {
      "cell_type": "markdown",
      "source": [
        "Data dipecah menjadi dua bagian: data latih untuk melatih model (80%) dan data uji untuk mengevaluasi model (20%)."
      ],
      "metadata": {
        "id": "alAlwWLYzv6E"
      }
    },
    {
      "cell_type": "code",
      "source": [
        "from sklearn.model_selection import train_test_split\n",
        "\n",
        "X = fashion.drop(columns='Price')\n",
        "y = fashion['Price']\n",
        "\n",
        "X_train, X_test, y_train, y_test = train_test_split(X, y, test_size=0.2, random_state=42)\n"
      ],
      "metadata": {
        "id": "1IONRwGDrgI6"
      },
      "execution_count": 13,
      "outputs": []
    },
    {
      "cell_type": "markdown",
      "source": [
        "# 5. Model Development"
      ],
      "metadata": {
        "id": "N8J_xAdopSnw"
      }
    },
    {
      "cell_type": "markdown",
      "source": [
        "Ketiga algoritma yang akan digunakan, antara lain:\n",
        "\n",
        "- Linear Regression\n",
        "- Random Forest Regressor\n",
        "- XGBoost Regressor"
      ],
      "metadata": {
        "id": "cIGAjCNepc7g"
      }
    },
    {
      "cell_type": "code",
      "source": [
        "from sklearn.linear_model import LinearRegression\n",
        "from sklearn.metrics import mean_squared_error\n",
        "\n",
        "lr = LinearRegression()\n",
        "lr.fit(X_train, y_train)\n",
        "y_pred_lr = lr.predict(X_test)\n",
        "\n",
        "mse_lr = mean_squared_error(y_test, y_pred_lr)\n",
        "print(\"MSE Linear Regression:\", mse_lr)\n"
      ],
      "metadata": {
        "id": "WPdYmaT5YacI",
        "colab": {
          "base_uri": "https://localhost:8080/"
        },
        "outputId": "156b3074-2727-4603-8eb7-7af81ff6d5a3"
      },
      "execution_count": 14,
      "outputs": [
        {
          "output_type": "stream",
          "name": "stdout",
          "text": [
            "MSE Linear Regression: 2959.4546943669325\n"
          ]
        }
      ]
    },
    {
      "cell_type": "code",
      "source": [
        "from sklearn.ensemble import RandomForestRegressor\n",
        "from skopt import BayesSearchCV\n",
        "from sklearn.metrics import mean_squared_error\n",
        "\n",
        "param_rf = {\n",
        "    'n_estimators': (50, 200),\n",
        "    'max_depth': (5, 50),\n",
        "    'min_samples_split': (2, 10)\n",
        "}\n",
        "\n",
        "opt_rf = BayesSearchCV(\n",
        "    RandomForestRegressor(random_state=42),\n",
        "    param_rf,\n",
        "    n_iter=32,\n",
        "    cv=3,\n",
        "    scoring='neg_mean_squared_error',\n",
        "    random_state=42\n",
        ")\n",
        "\n",
        "opt_rf.fit(X_train, y_train)\n",
        "best_rf = opt_rf.best_estimator_\n",
        "y_pred_rf = best_rf.predict(X_test)\n",
        "\n",
        "mse_rf = mean_squared_error(y_test, y_pred_rf)\n",
        "print(\"MSE Random Forest:\", mse_rf)\n"
      ],
      "metadata": {
        "colab": {
          "base_uri": "https://localhost:8080/"
        },
        "id": "HdDChSmGF6Bh",
        "outputId": "c014d54c-f2ae-4ac6-d59c-6739d887b044"
      },
      "execution_count": 15,
      "outputs": [
        {
          "output_type": "stream",
          "name": "stderr",
          "text": [
            "/usr/local/lib/python3.11/dist-packages/skopt/optimizer/optimizer.py:517: UserWarning: The objective has been evaluated at point [np.int64(5), np.int64(10), np.int64(200)] before, using random point [np.int64(23), np.int64(6), np.int64(165)]\n",
            "  warnings.warn(\n",
            "/usr/local/lib/python3.11/dist-packages/skopt/optimizer/optimizer.py:517: UserWarning: The objective has been evaluated at point [np.int64(5), np.int64(10), np.int64(200)] before, using random point [np.int64(21), np.int64(6), np.int64(173)]\n",
            "  warnings.warn(\n",
            "/usr/local/lib/python3.11/dist-packages/skopt/optimizer/optimizer.py:517: UserWarning: The objective has been evaluated at point [np.int64(5), np.int64(10), np.int64(200)] before, using random point [np.int64(17), np.int64(2), np.int64(154)]\n",
            "  warnings.warn(\n",
            "/usr/local/lib/python3.11/dist-packages/skopt/optimizer/optimizer.py:517: UserWarning: The objective has been evaluated at point [np.int64(5), np.int64(10), np.int64(200)] before, using random point [np.int64(40), np.int64(9), np.int64(141)]\n",
            "  warnings.warn(\n",
            "/usr/local/lib/python3.11/dist-packages/skopt/optimizer/optimizer.py:517: UserWarning: The objective has been evaluated at point [np.int64(5), np.int64(10), np.int64(200)] before, using random point [np.int64(10), np.int64(6), np.int64(163)]\n",
            "  warnings.warn(\n",
            "/usr/local/lib/python3.11/dist-packages/skopt/optimizer/optimizer.py:517: UserWarning: The objective has been evaluated at point [np.int64(5), np.int64(10), np.int64(200)] before, using random point [np.int64(27), np.int64(6), np.int64(111)]\n",
            "  warnings.warn(\n",
            "/usr/local/lib/python3.11/dist-packages/skopt/optimizer/optimizer.py:517: UserWarning: The objective has been evaluated at point [np.int64(5), np.int64(10), np.int64(200)] before, using random point [np.int64(39), np.int64(3), np.int64(179)]\n",
            "  warnings.warn(\n",
            "/usr/local/lib/python3.11/dist-packages/skopt/optimizer/optimizer.py:517: UserWarning: The objective has been evaluated at point [np.int64(5), np.int64(10), np.int64(200)] before, using random point [np.int64(30), np.int64(3), np.int64(152)]\n",
            "  warnings.warn(\n",
            "/usr/local/lib/python3.11/dist-packages/skopt/optimizer/optimizer.py:517: UserWarning: The objective has been evaluated at point [np.int64(5), np.int64(10), np.int64(200)] before, using random point [np.int64(29), np.int64(9), np.int64(55)]\n",
            "  warnings.warn(\n"
          ]
        },
        {
          "output_type": "stream",
          "name": "stdout",
          "text": [
            "MSE Random Forest: 2919.9867600313087\n"
          ]
        }
      ]
    },
    {
      "cell_type": "markdown",
      "source": [
        "Output : Mendefinisikan tiga pipeline model untuk melatih dan evaluasi: SVM, Random Forest, dan XGBoost. Pipeline ini memudahkan pengelolaan preprocessing dan training secara terstruktur."
      ],
      "metadata": {
        "id": "OJ3Q3Te6z9MG"
      }
    },
    {
      "cell_type": "code",
      "source": [
        "from xgboost import XGBRegressor\n",
        "\n",
        "param_xgb = {\n",
        "    'n_estimators': (50, 200),\n",
        "    'max_depth': (3, 10),\n",
        "    'learning_rate': (0.01, 0.3, 'log-uniform'),\n",
        "    'subsample': (0.5, 1.0)\n",
        "}\n",
        "\n",
        "opt_xgb = BayesSearchCV(\n",
        "    XGBRegressor(random_state=42),\n",
        "    param_xgb,\n",
        "    n_iter=32,\n",
        "    cv=3,\n",
        "    scoring='neg_mean_squared_error',\n",
        "    random_state=42\n",
        ")\n",
        "\n",
        "opt_xgb.fit(X_train, y_train)\n",
        "best_xgb = opt_xgb.best_estimator_\n",
        "y_pred_xgb = best_xgb.predict(X_test)\n",
        "\n",
        "mse_xgb = mean_squared_error(y_test, y_pred_xgb)\n",
        "print(\"MSE XGBoost:\", mse_xgb)\n"
      ],
      "metadata": {
        "colab": {
          "base_uri": "https://localhost:8080/"
        },
        "id": "cILPyOOwF7j2",
        "outputId": "0b58e0b1-2ad4-40dc-c9e5-127d434cd7a5"
      },
      "execution_count": 16,
      "outputs": [
        {
          "output_type": "stream",
          "name": "stderr",
          "text": [
            "/usr/local/lib/python3.11/dist-packages/skopt/optimizer/optimizer.py:517: UserWarning: The objective has been evaluated at point [0.01, np.int64(3), np.int64(50), 0.5] before, using random point [0.08565869976525829, np.int64(9), np.int64(72), 0.5731657133907271]\n",
            "  warnings.warn(\n",
            "/usr/local/lib/python3.11/dist-packages/skopt/optimizer/optimizer.py:517: UserWarning: The objective has been evaluated at point [0.01, np.int64(3), np.int64(50), 0.5] before, using random point [0.031060747127876535, np.int64(5), np.int64(74), 0.6768007352431151]\n",
            "  warnings.warn(\n"
          ]
        },
        {
          "output_type": "stream",
          "name": "stdout",
          "text": [
            "MSE XGBoost: 2927.29248046875\n"
          ]
        }
      ]
    },
    {
      "cell_type": "markdown",
      "source": [
        "# 6. Evaluasi Model dengan Mean Squared Error (MSE)"
      ],
      "metadata": {
        "id": "hUioXnXd0EjJ"
      }
    },
    {
      "cell_type": "code",
      "source": [
        "import pandas as pd\n",
        "import matplotlib.pyplot as plt\n",
        "\n",
        "# 1. Buat dataframe ringkas hasil MSE\n",
        "mse_results = {\n",
        "    \"Linear Regression\": mse_lr,\n",
        "    \"Random Forest\": mse_rf,\n",
        "    \"XGBoost\": mse_xgb\n",
        "}\n",
        "\n",
        "mse_df = pd.DataFrame.from_dict(mse_results, orient='index', columns=['MSE'])\n",
        "print(mse_df)\n",
        "\n",
        "# 2. Visualisasi hasil MSE\n",
        "plt.figure(figsize=(8,5))\n",
        "bars = plt.bar(mse_df.index, mse_df['MSE'], color=['skyblue', 'orange', 'green'])\n",
        "plt.title(\"Mean Squared Error (MSE) Model Comparison\")\n",
        "plt.ylabel(\"MSE\")\n",
        "plt.xlabel(\"Model\")\n",
        "plt.ylim(0, max(mse_df['MSE']) * 1.1)\n",
        "\n",
        "# Tampilkan nilai MSE di atas batang\n",
        "for bar in bars:\n",
        "    yval = bar.get_height()\n",
        "    plt.text(bar.get_x() + bar.get_width()/2, yval + 20, f\"{yval:.2f}\", ha='center', va='bottom')\n",
        "\n",
        "plt.show()\n",
        "\n",
        "# 3. Kesimpulan singkat\n",
        "print(\"Kesimpulan:\")\n",
        "best_model = mse_df['MSE'].idxmin()\n",
        "print(f\"Model dengan MSE terkecil adalah {best_model}, menunjukkan performa terbaik pada dataset ini.\")\n"
      ],
      "metadata": {
        "colab": {
          "base_uri": "https://localhost:8080/",
          "height": 591
        },
        "id": "jO4HpOeMT-aa",
        "outputId": "f0d6fb54-306b-45b8-9a79-0c10d9327450"
      },
      "execution_count": 23,
      "outputs": [
        {
          "output_type": "stream",
          "name": "stdout",
          "text": [
            "                           MSE\n",
            "Linear Regression  2959.454694\n",
            "Random Forest      2919.986760\n",
            "XGBoost            2927.292480\n"
          ]
        },
        {
          "output_type": "display_data",
          "data": {
            "text/plain": [
              "<Figure size 800x500 with 1 Axes>"
            ],
            "image/png": "[encoded data removed]"
          },
          "metadata": {}
        },
        {
          "output_type": "stream",
          "name": "stdout",
          "text": [
            "Kesimpulan:\n",
            "Model dengan MSE terkecil adalah Random Forest, menunjukkan performa terbaik pada dataset ini.\n"
          ]
        }
      ]
    },
    {
      "cell_type": "markdown",
      "source": [
        "Output:\n",
        "- Random Forest memiliki performa terbaik MSE terkecil: 2919.99. Menunjukkan kemampuan terbaik dalam meminimalkan error prediksi di antara ketiga model.\n",
        "\n",
        "- XGBoost memiliki performa yang hampir setara dengan Random Forest yaitu MSE: 2927.29. Selisih sangat kecil dengan Random Forest, menunjukkan keduanya mampu menangkap pola kompleks data.\n",
        "\n",
        "- Linear Regression memiliki MSE tertinggi yaitu 2959.45, meskipun sedikit lebih tinggi, model ini tetap kompetitif dan memiliki keunggulan dalam kesederhanaan dan interpretabilitas.\n",
        "\n",
        "Perbedaan MSE antar model tergolong kecil. Selisih antar model berkisar ±40 poin, menunjukkan semua model cukup baik secara prediktif."
      ],
      "metadata": {
        "id": "os2rtiyN0M7r"
      }
    },
    {
      "cell_type": "markdown",
      "source": [
        "Output:\n",
        "Plot ini menunjukkan perbandingan error antara ketiga model pada data train dan test."
      ],
      "metadata": {
        "id": "SHRHWrf30PyE"
      }
    },
    {
      "cell_type": "markdown",
      "source": [
        "# Contoh Prediksi Data Baru"
      ],
      "metadata": {
        "id": "zbFqfU1Rx0h9"
      }
    },
    {
      "cell_type": "code",
      "source": [
        "import pandas as pd\n",
        "\n",
        "# Dictionary model yang sudah dilatih\n",
        "model_dict = {\n",
        "    \"Linear Regression\": lr,\n",
        "    \"Random Forest\": best_rf,\n",
        "    \"XGBoost\": best_xgb\n",
        "}\n",
        "\n",
        "# Ambil 1 data uji untuk prediksi\n",
        "prediksi = X_test.iloc[:1]\n",
        "y_true = y_test[:1].values\n",
        "\n",
        "# Simpan hasil prediksi\n",
        "pred_dict = {'y_true': y_true}\n",
        "\n",
        "for name, model in model_dict.items():\n",
        "    pred_dict[f'prediksi_{name}'] = model.predict(prediksi).round(1)\n",
        "\n",
        "# Tampilkan dalam bentuk tabel\n",
        "print(pd.DataFrame(pred_dict))\n"
      ],
      "metadata": {
        "colab": {
          "base_uri": "https://localhost:8080/"
        },
        "id": "UiRswEhp6hsN",
        "outputId": "981ca37c-2519-450a-9c8c-8c3553a72ffd"
      },
      "execution_count": 24,
      "outputs": [
        {
          "output_type": "stream",
          "name": "stdout",
          "text": [
            "   y_true  prediksi_Linear Regression  prediksi_Random Forest  \\\n",
            "0     101                       104.2                   114.4   \n",
            "\n",
            "   prediksi_XGBoost  \n",
            "0             107.5  \n"
          ]
        }
      ]
    },
    {
      "cell_type": "markdown",
      "source": [
        "Output:\n",
        "\n",
        "- Data pada tabel menunjukkan hasil prediksi dari tiga model regresi, yaitu Linear Regression, Random Forest, dan XGBoost, dibandingkan dengan nilai aktual (ground truth) sebesar 101.\n",
        "\n",
        "- Linear Regression menghasilkan prediksi sebesar 104.2, yang berarti terjadi selisih (error) sebesar +3.2 dari nilai aktual. Ini menunjukkan bahwa model Linear Regression memberikan hasil yang paling mendekati nilai sebenarnya, dengan deviasi paling kecil.\n",
        "\n",
        "- Random Forest memberikan hasil prediksi sebesar 114.4, menyimpang +13.4 dari nilai aktual. Ini merupakan deviasi terbesar di antara ketiga model, menandakan bahwa prediksi dari Random Forest kurang akurat untuk data ini.\n",
        "\n",
        "- XGBoost memprediksi nilai sebesar 107.5, dengan selisih +6.5 terhadap nilai sebenarnya. Meskipun tidak seakurat Linear Regression, hasil prediksinya masih dalam batas kesalahan yang moderat dan lebih baik dibandingkan Random Forest.\n",
        "\n",
        "\n",
        "\n",
        "Kesimpulan: Linear Regression menunjukkan performa terbaik karena menghasilkan prediksi paling mendekati nilai aktual. XGBoost berada di posisi kedua, masih tergolong akurat meskipun memiliki deviasi sedang Random Forest memiliki error tertinggi, menunjukkan kinerjanya kurang optimal untuk contoh ini."
      ],
      "metadata": {
        "id": "oM4QdZnz3Cso"
      }
    }
  ]
}